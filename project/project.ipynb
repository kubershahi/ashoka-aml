{
 "cells": [
  {
   "cell_type": "markdown",
   "metadata": {
    "id": "i3uVsBf1jacE"
   },
   "source": [
    "# AML Project - Abstractive Text Summarization\n",
    "\n",
    "Problem Statment: Given a news article, generate a summary of two-to-three sentences and a headline for the article.\n",
    "\n",
    "The summary should be abstractive rather than extractive. In abstractive summarization, new sentences are generated as part of the summary and the sentences in the summary might not be present in the news article."
   ]
  },
  {
   "cell_type": "markdown",
   "metadata": {
    "id": "quywxuE8jxy9"
   },
   "source": [
    "### Importing necessary packages"
   ]
  },
  {
   "cell_type": "code",
   "execution_count": 48,
   "metadata": {
    "colab": {
     "base_uri": "https://localhost:8080/",
     "height": 74,
     "output_embedded_package_id": "1TA7HShfr2cnAW-d--z5RbXOqzAKiywKT"
    },
    "executionInfo": {
     "elapsed": 4140,
     "status": "ok",
     "timestamp": 1652119490916,
     "user": {
      "displayName": "Kuber Shahi",
      "userId": "04157404054756166055"
     },
     "user_tz": -330
    },
    "id": "2ghsLfkLj0KB",
    "outputId": "240bede0-e65c-4a1f-e9b7-3da1a4b26fb5"
   },
   "outputs": [],
   "source": [
    "import numpy as np\n",
    "import pandas as pd\n",
    "\n",
    "# splittin dataset\n",
    "from sklearn.model_selection import train_test_split\n",
    "\n",
    "# evaluation metric\n",
    "from ignite.metrics import Rouge, RougeN, RougeL\n",
    "\n",
    "# visualisation\n",
    "# import plotly.express as px\n",
    "# import plotly.graph_objects as go\n",
    "# import plotly.offline as pyo\n",
    " \n",
    "# pyo.init_notebook_mode() "
   ]
  },
  {
   "cell_type": "markdown",
   "metadata": {
    "id": "CncrthEZ38un"
   },
   "source": [
    "### Importing the Indian News Summary Dataset"
   ]
  },
  {
   "cell_type": "code",
   "execution_count": 49,
   "metadata": {
    "colab": {
     "base_uri": "https://localhost:8080/",
     "height": 424
    },
    "executionInfo": {
     "elapsed": 1218,
     "status": "ok",
     "timestamp": 1652119503357,
     "user": {
      "displayName": "Kuber Shahi",
      "userId": "04157404054756166055"
     },
     "user_tz": -330
    },
    "id": "emf_JRKnkHqo",
    "outputId": "366131b1-5408-44c8-abf8-d4b4448b1cbe"
   },
   "outputs": [
    {
     "data": {
      "text/html": [
       "<div>\n",
       "<style scoped>\n",
       "    .dataframe tbody tr th:only-of-type {\n",
       "        vertical-align: middle;\n",
       "    }\n",
       "\n",
       "    .dataframe tbody tr th {\n",
       "        vertical-align: top;\n",
       "    }\n",
       "\n",
       "    .dataframe thead th {\n",
       "        text-align: right;\n",
       "    }\n",
       "</style>\n",
       "<table border=\"1\" class=\"dataframe\">\n",
       "  <thead>\n",
       "    <tr style=\"text-align: right;\">\n",
       "      <th></th>\n",
       "      <th>text</th>\n",
       "      <th>summary</th>\n",
       "    </tr>\n",
       "  </thead>\n",
       "  <tbody>\n",
       "    <tr>\n",
       "      <th>0</th>\n",
       "      <td>Saurav Kant, an alumnus of upGrad and IIIT-B's...</td>\n",
       "      <td>upGrad learner switches to career in ML &amp; Al w...</td>\n",
       "    </tr>\n",
       "    <tr>\n",
       "      <th>1</th>\n",
       "      <td>Kunal Shah's credit card bill payment platform...</td>\n",
       "      <td>Delhi techie wins free food from Swiggy for on...</td>\n",
       "    </tr>\n",
       "    <tr>\n",
       "      <th>2</th>\n",
       "      <td>New Zealand defeated India by 8 wickets in the...</td>\n",
       "      <td>New Zealand end Rohit Sharma-led India's 12-ma...</td>\n",
       "    </tr>\n",
       "    <tr>\n",
       "      <th>3</th>\n",
       "      <td>With Aegon Life iTerm Insurance plan, customer...</td>\n",
       "      <td>Aegon life iTerm insurance plan helps customer...</td>\n",
       "    </tr>\n",
       "    <tr>\n",
       "      <th>4</th>\n",
       "      <td>Speaking about the sexual harassment allegatio...</td>\n",
       "      <td>Have known Hirani for yrs, what if MeToo claim...</td>\n",
       "    </tr>\n",
       "    <tr>\n",
       "      <th>...</th>\n",
       "      <td>...</td>\n",
       "      <td>...</td>\n",
       "    </tr>\n",
       "    <tr>\n",
       "      <th>98396</th>\n",
       "      <td>A CRPF jawan was on Tuesday axed to death with...</td>\n",
       "      <td>CRPF jawan axed to death by Maoists in Chhatti...</td>\n",
       "    </tr>\n",
       "    <tr>\n",
       "      <th>98397</th>\n",
       "      <td>'Uff Yeh', the first song from the Sonakshi Si...</td>\n",
       "      <td>First song from Sonakshi Sinha's 'Noor' titled...</td>\n",
       "    </tr>\n",
       "    <tr>\n",
       "      <th>98398</th>\n",
       "      <td>According to reports, a new version of the 199...</td>\n",
       "      <td>'The Matrix' film to get a reboot: Reports</td>\n",
       "    </tr>\n",
       "    <tr>\n",
       "      <th>98399</th>\n",
       "      <td>A new music video shows rapper Snoop Dogg aimi...</td>\n",
       "      <td>Snoop Dogg aims gun at clown dressed as Trump ...</td>\n",
       "    </tr>\n",
       "    <tr>\n",
       "      <th>98400</th>\n",
       "      <td>Madhesi Morcha, an alliance of seven political...</td>\n",
       "      <td>Madhesi Morcha withdraws support to Nepalese g...</td>\n",
       "    </tr>\n",
       "  </tbody>\n",
       "</table>\n",
       "<p>98401 rows × 2 columns</p>\n",
       "</div>"
      ],
      "text/plain": [
       "                                                    text  \\\n",
       "0      Saurav Kant, an alumnus of upGrad and IIIT-B's...   \n",
       "1      Kunal Shah's credit card bill payment platform...   \n",
       "2      New Zealand defeated India by 8 wickets in the...   \n",
       "3      With Aegon Life iTerm Insurance plan, customer...   \n",
       "4      Speaking about the sexual harassment allegatio...   \n",
       "...                                                  ...   \n",
       "98396  A CRPF jawan was on Tuesday axed to death with...   \n",
       "98397  'Uff Yeh', the first song from the Sonakshi Si...   \n",
       "98398  According to reports, a new version of the 199...   \n",
       "98399  A new music video shows rapper Snoop Dogg aimi...   \n",
       "98400  Madhesi Morcha, an alliance of seven political...   \n",
       "\n",
       "                                                 summary  \n",
       "0      upGrad learner switches to career in ML & Al w...  \n",
       "1      Delhi techie wins free food from Swiggy for on...  \n",
       "2      New Zealand end Rohit Sharma-led India's 12-ma...  \n",
       "3      Aegon life iTerm insurance plan helps customer...  \n",
       "4      Have known Hirani for yrs, what if MeToo claim...  \n",
       "...                                                  ...  \n",
       "98396  CRPF jawan axed to death by Maoists in Chhatti...  \n",
       "98397  First song from Sonakshi Sinha's 'Noor' titled...  \n",
       "98398         'The Matrix' film to get a reboot: Reports  \n",
       "98399  Snoop Dogg aims gun at clown dressed as Trump ...  \n",
       "98400  Madhesi Morcha withdraws support to Nepalese g...  \n",
       "\n",
       "[98401 rows x 2 columns]"
      ]
     },
     "execution_count": 49,
     "metadata": {},
     "output_type": "execute_result"
    }
   ],
   "source": [
    "df_headline = pd.read_csv('dataset/news_headline.csv', header=0)\n",
    "df_headline"
   ]
  },
  {
   "cell_type": "code",
   "execution_count": 50,
   "metadata": {
    "colab": {
     "base_uri": "https://localhost:8080/"
    },
    "executionInfo": {
     "elapsed": 378,
     "status": "ok",
     "timestamp": 1652119505975,
     "user": {
      "displayName": "Kuber Shahi",
      "userId": "04157404054756166055"
     },
     "user_tz": -330
    },
    "id": "WUgqR2AkKjYQ",
    "outputId": "60bbc9dd-633f-426a-eef5-f339bffd57e4"
   },
   "outputs": [
    {
     "name": "stdout",
     "output_type": "stream",
     "text": [
      "(98401, 2)\n"
     ]
    }
   ],
   "source": [
    "print(df_headline.shape)"
   ]
  },
  {
   "cell_type": "markdown",
   "metadata": {
    "id": "mA40dGgn4L-G"
   },
   "source": [
    "### Splitting the dataset in training and testing set (80-20) split"
   ]
  },
  {
   "cell_type": "code",
   "execution_count": 27,
   "metadata": {
    "colab": {
     "base_uri": "https://localhost:8080/"
    },
    "executionInfo": {
     "elapsed": 400,
     "status": "ok",
     "timestamp": 1652119509189,
     "user": {
      "displayName": "Kuber Shahi",
      "userId": "04157404054756166055"
     },
     "user_tz": -330
    },
    "id": "E7RMDvl4kIDn",
    "outputId": "a09336c3-8d97-4efe-a0f9-108a89bb0909"
   },
   "outputs": [
    {
     "name": "stdout",
     "output_type": "stream",
     "text": [
      "(78720,) (78720,)\n",
      "(19681,) (19681,)\n",
      "78720 78720\n",
      "19681 19681\n"
     ]
    }
   ],
   "source": [
    "x_train, x_test, y_train, y_test = train_test_split(df_headline['text'], df_headline['summary'], test_size=0.2,random_state=25, shuffle=True)\n",
    "print(x_train.shape, y_train.shape)\n",
    "print(x_test.shape, y_test.shape)\n",
    "\n",
    "x_train_list, y_train_list = x_train.tolist(), y_train.tolist()\n",
    "x_test_list, y_test_list = x_test.tolist(), y_test.tolist()\n",
    "\n",
    "print(len(x_train_list), len(y_train_list))\n",
    "print(len(x_test_list), len(y_test_list))"
   ]
  },
  {
   "cell_type": "markdown",
   "metadata": {
    "id": "Dp1rzit3FRPQ"
   },
   "source": [
    "### Importing the Pegasus model, tokenizer, trainer, and training arguments for finetuning"
   ]
  },
  {
   "cell_type": "code",
   "execution_count": 51,
   "metadata": {
    "colab": {
     "base_uri": "https://localhost:8080/"
    },
    "executionInfo": {
     "elapsed": 12505,
     "status": "ok",
     "timestamp": 1652119523781,
     "user": {
      "displayName": "Kuber Shahi",
      "userId": "04157404054756166055"
     },
     "user_tz": -330
    },
    "id": "CpM9A-RakITP",
    "outputId": "6c2648dc-7d58-40a0-a8f8-eb109bf692f5"
   },
   "outputs": [
    {
     "name": "stdout",
     "output_type": "stream",
     "text": [
      "1.10.2\n",
      "cpu\n"
     ]
    }
   ],
   "source": [
    "from transformers import PegasusForConditionalGeneration, PegasusTokenizerFast, Trainer, TrainingArguments\n",
    "import torch\n",
    "print(torch.__version__)\n",
    "torch_device = 'cuda' if torch.cuda.is_available() else 'cpu'\n",
    "print(torch_device)"
   ]
  },
  {
   "cell_type": "code",
   "execution_count": 29,
   "metadata": {
    "colab": {
     "base_uri": "https://localhost:8080/"
    },
    "executionInfo": {
     "elapsed": 23608,
     "status": "ok",
     "timestamp": 1652119547385,
     "user": {
      "displayName": "Kuber Shahi",
      "userId": "04157404054756166055"
     },
     "user_tz": -330
    },
    "id": "EsV5o6VbkIgc",
    "outputId": "0df9fdb2-eabd-4d7b-c3c9-d435bd85fa4d"
   },
   "outputs": [
    {
     "name": "stdout",
     "output_type": "stream",
     "text": [
      "CPU times: user 12.5 s, sys: 7.95 s, total: 20.5 s\n",
      "Wall time: 25.5 s\n"
     ]
    }
   ],
   "source": [
    "# %%time\n",
    "# tokenizer_cnn = PegasusTokenizerFast.from_pretrained(\"google/pegasus-cnn_dailymail\")\n",
    "# model_cnn = PegasusForConditionalGeneration.from_pretrained(\"google/pegasus-cnn_dailymail\").to(torch_device)"
   ]
  },
  {
   "cell_type": "code",
   "execution_count": 52,
   "metadata": {
    "id": "EYg5mbmF5N3t"
   },
   "outputs": [
    {
     "name": "stdout",
     "output_type": "stream",
     "text": [
      "CPU times: user 12.1 s, sys: 8.25 s, total: 20.4 s\n",
      "Wall time: 29.7 s\n"
     ]
    }
   ],
   "source": [
    "%%time\n",
    "tokenizer_large = PegasusTokenizerFast.from_pretrained(\"google/pegasus-large\")\n",
    "model_large = PegasusForConditionalGeneration.from_pretrained(\"google/pegasus-large\").to(torch_device)"
   ]
  },
  {
   "cell_type": "code",
   "execution_count": 53,
   "metadata": {},
   "outputs": [
    {
     "data": {
      "text/plain": [
       "PreTrainedTokenizerFast(name_or_path='google/pegasus-large', vocab_size=96103, model_max_len=1024, is_fast=True, padding_side='right', truncation_side='right', special_tokens={'eos_token': '</s>', 'unk_token': '<unk>', 'pad_token': '<pad>', 'mask_token': '<mask_2>', 'additional_special_tokens': ['<mask_1>', '<unk_2>', '<unk_3>', '<unk_4>', '<unk_5>', '<unk_6>', '<unk_7>', '<unk_8>', '<unk_9>', '<unk_10>', '<unk_11>', '<unk_12>', '<unk_13>', '<unk_14>', '<unk_15>', '<unk_16>', '<unk_17>', '<unk_18>', '<unk_19>', '<unk_20>', '<unk_21>', '<unk_22>', '<unk_23>', '<unk_24>', '<unk_25>', '<unk_26>', '<unk_27>', '<unk_28>', '<unk_29>', '<unk_30>', '<unk_31>', '<unk_32>', '<unk_33>', '<unk_34>', '<unk_35>', '<unk_36>', '<unk_37>', '<unk_38>', '<unk_39>', '<unk_40>', '<unk_41>', '<unk_42>', '<unk_43>', '<unk_44>', '<unk_45>', '<unk_46>', '<unk_47>', '<unk_48>', '<unk_49>', '<unk_50>', '<unk_51>', '<unk_52>', '<unk_53>', '<unk_54>', '<unk_55>', '<unk_56>', '<unk_57>', '<unk_58>', '<unk_59>', '<unk_60>', '<unk_61>', '<unk_62>', '<unk_63>', '<unk_64>', '<unk_65>', '<unk_66>', '<unk_67>', '<unk_68>', '<unk_69>', '<unk_70>', '<unk_71>', '<unk_72>', '<unk_73>', '<unk_74>', '<unk_75>', '<unk_76>', '<unk_77>', '<unk_78>', '<unk_79>', '<unk_80>', '<unk_81>', '<unk_82>', '<unk_83>', '<unk_84>', '<unk_85>', '<unk_86>', '<unk_87>', '<unk_88>', '<unk_89>', '<unk_90>', '<unk_91>', '<unk_92>', '<unk_93>', '<unk_94>', '<unk_95>', '<unk_96>', '<unk_97>', '<unk_98>', '<unk_99>', '<unk_100>', '<unk_101>', '<unk_102>']})"
      ]
     },
     "execution_count": 53,
     "metadata": {},
     "output_type": "execute_result"
    }
   ],
   "source": [
    "# configuaration of tokenizer\n",
    "tokenizer_large"
   ]
  },
  {
   "cell_type": "code",
   "execution_count": 110,
   "metadata": {},
   "outputs": [],
   "source": [
    "# parameters of the model\n",
    "# model_large"
   ]
  },
  {
   "cell_type": "code",
   "execution_count": 56,
   "metadata": {},
   "outputs": [
    {
     "name": "stdout",
     "output_type": "stream",
     "text": [
      "568699904\n"
     ]
    }
   ],
   "source": [
    "# number of trainable parameters\n",
    "model_large_params = sum(p.numel() for p in model_large.parameters() if p.requires_grad)\n",
    "print(model_large_params)"
   ]
  },
  {
   "cell_type": "code",
   "execution_count": null,
   "metadata": {},
   "outputs": [],
   "source": []
  },
  {
   "cell_type": "code",
   "execution_count": null,
   "metadata": {},
   "outputs": [],
   "source": []
  },
  {
   "cell_type": "code",
   "execution_count": null,
   "metadata": {},
   "outputs": [],
   "source": []
  },
  {
   "cell_type": "code",
   "execution_count": null,
   "metadata": {},
   "outputs": [],
   "source": []
  },
  {
   "cell_type": "code",
   "execution_count": null,
   "metadata": {},
   "outputs": [],
   "source": []
  },
  {
   "cell_type": "markdown",
   "metadata": {
    "id": "wlWzhUKM3EB0"
   },
   "source": [
    "### Testing the pretrained Pegasus model on our test data"
   ]
  },
  {
   "cell_type": "code",
   "execution_count": 57,
   "metadata": {},
   "outputs": [],
   "source": [
    "# function to get summary of a text of list of texts\n",
    "def get_summary(tokenizer, model, x):\n",
    "    x_tokenized = tokenizer(x, truncation=True, padding = True, return_tensors=\"pt\").to(torch_device)\n",
    "    print(\"Input X tokenized. Generating Summary ...\")\n",
    "    y_pred_tokenized= model.generate(**x_tokenized).to(torch_device)\n",
    "    print(\"Summary Generated. Decoding Summary ...\")\n",
    "    y_pred = tokenizer.batch_decode(y_pred_tokenized, skip_special_tokens=True)\n",
    "    print(\"Summary Decoded.\")\n",
    "    return y_pred\n",
    "\n",
    "# function to caluculate rogue score\n",
    "def calculate_rouge(m, y_pred, y):\n",
    "    candidate = [i.split() for i in y_pred]\n",
    "    reference = [i.split() for i in y]\n",
    "    # print(candidate, reference)\n",
    "    \n",
    "    m.update((candidate, reference))\n",
    "    \n",
    "    return m.compute()"
   ]
  },
  {
   "cell_type": "code",
   "execution_count": 42,
   "metadata": {},
   "outputs": [
    {
     "name": "stdout",
     "output_type": "stream",
     "text": [
      "Ignored unknown kwarg option direction\n",
      "Input X tokenized. Generating Summary ...\n",
      "Summary Generated. Decoding Summary ...\n",
      "Summary Decoded.\n",
      "{'Rouge-L-P': 0.027428257223599803, 'Rouge-L-R': 0.13904761904761906, 'Rouge-L-F': 0.13904761904761906, 'Rouge-1-P': 0.027428257223599803, 'Rouge-1-R': 0.13904761904761906, 'Rouge-1-F': 0.13904761904761906}\n",
      "CPU times: user 52min 21s, sys: 53min 50s, total: 1h 46min 12s\n",
      "Wall time: 28min 30s\n"
     ]
    }
   ],
   "source": [
    "%%time\n",
    "m = Rouge(variants=[\"L\", 1], multiref=\"best\")\n",
    "\n",
    "for i in range(0,25, 25):\n",
    "    y_test_pred = get_summary(tokenizer_large,model_large, x_test_list[i:i+25])\n",
    "    r = calculate_rouge(m, y_test_pred, y_test_list[i:i+25])\n",
    "    print(r)"
   ]
  },
  {
   "cell_type": "code",
   "execution_count": 58,
   "metadata": {},
   "outputs": [
    {
     "data": {
      "text/plain": [
       "[\"The world's largest cruise ship, which is 1,188 feet long and weighs 228,000 tonnes, has been delivered to cruise line Royal Caribbean ahead of its maiden voyage. The 'Symphony of the Seas' ship features a zipline and an ice rink. It has over 2,700 guest rooms, including two-storey family suites that have a slide connecting the second and first floors.\",\n",
       " 'Debt-ridden Air India has received a loan worth â\\x82¹1,500 crore from Bank of India to meet urgent working capital needs, according to reports. This comes less than a month after Air India floated a tender in this regard. Prior to this, the airline had reportedly borrowed around â\\x82¹3,250 crore as short-tenure loans from IndusInd Bank and Punjab National Bank.',\n",
       " 'China-based scientists have discovered a method to convert tree leaves into a porous carbon material that can be used to make electronics. Dried phoenix tree leaves, when grounded and heated to 220 ÂºC, produced a powder of carbon microspheres. On further heating with chemical treatment, the powder developed charge-holding capacity three times that of graphene supercapacitors, researchers said.',\n",
       " 'Investor Michael Novogratz halted his plan to launch a $500 million hedge fund in cryptocurrencies and predicted that Bitcoin could drop to as low as $8,000 before rebounding. Novogratz said, \"We didn\\'t like market conditions and we wanted to re-evaluate what we\\'re doing.\" He further added, \"I didn\\'t want to have to deal with the schizophrenic emotional side of it.\"',\n",
       " 'Silicon Valley-based juicer making startup Juicero is refunding all its customers after they discovered the chopped fruit packs the startup provides with the juicers can be hand-squeezed to obtain the juice. Juicero had said its â\\x82¹26,000 juicer applies four tons of force to the packs to squeeze the juice. However, its users managed to squeeze the pack without the juicer.',\n",
       " 'A parliamentary panel has reportedly summoned RBI Governor Urjit Patel to appear before it on May 17 to answer queries on the recently-unearthed banking scams. Patel had earlier said that the RBI doesn\\'t have adequate powers to deal with public sector banks. \"We would like to know what kind of powers the RBI Governor needs,\" a panel official said.',\n",
       " 'Markets regulator SEBI on Friday allowed stock exchanges to extend trading in equity derivatives by over 8.5 hours to bring the timings in line with commodity markets. It has allowed exchanges to set trading hours in equity derivatives between 9:00 am and 11:55 pm, effective October 1, 2018. As of now, trading is allowed from 9:15 am till 3:30 pm.',\n",
       " \"The trailer of actress Manisha Koirala's comeback film 'Dear Maya' has been released. The film will revolve around the story of a lonely middle-aged spinster, portrayed by Manisha. Written and directed by Sunaina Bhatnagar, the film also stars Pakistani VJ Madiha Imam and is scheduled to release on June 2.\",\n",
       " 'Speaking about being trolled for her dialogue, \"My business is my business, none of your business\" in the film \\'Race 3\\', actress Daisy Shah said that the memes made her more popular. \"[E]ither you take it positively or you take it negatively, and I take it positively,\" the actress added. She further said she was \"very happy\" with the outcome.',\n",
       " 'A Bangladesh court on Monday sentenced former Prime Minister Khaleda Zia to seven years in jail on corruption charges. Zia was found guilty of corruption charges linked to the misappropriation of â\\x82¹2.7 crore set aside for the Zia Charitable Trust Fund. In February, another court sentenced her to five years in jail for embezzling â\\x82¹1.8 crore meant for an orphanage.']"
      ]
     },
     "execution_count": 58,
     "metadata": {},
     "output_type": "execute_result"
    }
   ],
   "source": [
    "x_test_list[:10]"
   ]
  },
  {
   "cell_type": "code",
   "execution_count": 61,
   "metadata": {},
   "outputs": [
    {
     "data": {
      "text/plain": [
       "[\"The 'Symphony of the Seas' ship features a zipline and an ice rink.\",\n",
       " 'Debt-ridden Air India has received a loan worth 11,500 crore from Bank of India to meet urgent working capital needs, according to reports.',\n",
       " 'Dried phoenix tree leaves, when grounded and heated to 220 oC, produced a powder of carbon microspheres.',\n",
       " 'Novogratz said, \"We didn\\'t like market conditions and we wanted to re-evaluate what we\\'re doing.\" He further added, \"I didn\\'t want to have to deal with the schizophrenic emotional side of it.\"',\n",
       " 'Juicero had said its 126,000 juicer applies four tons of force to the packs to squeeze the juice.',\n",
       " '\"We would like to know what kind of powers the RBI Governor needs,\" a panel official said.',\n",
       " 'It has allowed exchanges to set trading hours in equity derivatives between 9:00 am and 11:55 pm, effective October 1, 2018.',\n",
       " 'The film will revolve around the story of a lonely middle-aged spinster, portrayed by Manisha.',\n",
       " 'Speaking about being trolled for her dialogue, \"My business is my business, none of your business\" in the film \\'Race 3\\', actress Daisy Shah said that the memes made her more popular.',\n",
       " 'A Bangladesh court on Monday sentenced former Prime Minister Khaleda Zia to seven years in jail on corruption charges.']"
      ]
     },
     "execution_count": 61,
     "metadata": {},
     "output_type": "execute_result"
    }
   ],
   "source": [
    "y_test_pred[:10]"
   ]
  },
  {
   "cell_type": "code",
   "execution_count": 62,
   "metadata": {},
   "outputs": [
    {
     "data": {
      "text/plain": [
       "[\"World's largest cruise ship with zipline, ice rink delivered\",\n",
       " 'Air India gets â\\x82¹1,500-crore loan from Bank of India',\n",
       " 'Scientists convert dried tree leaves into electronics',\n",
       " 'Investor halts plan for $500 mn cryptocurrency hedge fund',\n",
       " 'Juicer startup refunds users on hand-squeezing fruit packs',\n",
       " 'Parliamentary panel summons RBI Governor over bank scams',\n",
       " \"Exchanges allowed to extend equity derivatives' trading time\",\n",
       " \"Trailer of Manisha Koirala's comeback film 'Dear Maya' out\",\n",
       " \"I've become more popular since 'Race 3' memes: Daisy Shah\",\n",
       " \"Former B'desh PM Khaleda Zia jailed for 7 years in corruption case\"]"
      ]
     },
     "execution_count": 62,
     "metadata": {},
     "output_type": "execute_result"
    }
   ],
   "source": [
    "y_test_list[:10]"
   ]
  },
  {
   "cell_type": "code",
   "execution_count": null,
   "metadata": {
    "colab": {
     "base_uri": "https://localhost:8080/"
    },
    "executionInfo": {
     "elapsed": 647,
     "status": "ok",
     "timestamp": 1652117631173,
     "user": {
      "displayName": "Kuber Shahi",
      "userId": "04157404054756166055"
     },
     "user_tz": -330
    },
    "id": "lFJ_0ZNq4loa",
    "outputId": "1397bcef-d9db-44ba-d795-2edee571a818"
   },
   "outputs": [],
   "source": []
  },
  {
   "cell_type": "code",
   "execution_count": null,
   "metadata": {
    "colab": {
     "base_uri": "https://localhost:8080/",
     "height": 36
    },
    "executionInfo": {
     "elapsed": 513,
     "status": "ok",
     "timestamp": 1652106910890,
     "user": {
      "displayName": "Kuber Shahi",
      "userId": "04157404054756166055"
     },
     "user_tz": -330
    },
    "id": "Dr0fDeGJPqh6",
    "outputId": "a5760772-ef63-4d0f-a23a-4ddb1e5e34ee"
   },
   "outputs": [],
   "source": []
  },
  {
   "cell_type": "markdown",
   "metadata": {
    "colab": {
     "base_uri": "https://localhost:8080/"
    },
    "executionInfo": {
     "elapsed": 434,
     "status": "ok",
     "timestamp": 1652107924833,
     "user": {
      "displayName": "Kuber Shahi",
      "userId": "04157404054756166055"
     },
     "user_tz": -330
    },
    "id": "0ostHsqJQCNr",
    "outputId": "79ba5d1a-db57-43e1-e112-249d5d674d87"
   },
   "source": [
    "### Preparing our training dataset for finetuning our model"
   ]
  },
  {
   "cell_type": "code",
   "execution_count": 77,
   "metadata": {},
   "outputs": [],
   "source": [
    "# dataset class to efficiently manage our dataset\n",
    "class Dataset(torch.utils.data.Dataset):\n",
    "    def __init__(self, text, summary):\n",
    "        self.text= text\n",
    "        self.summary = summary\n",
    "    def __getitem__(self, idx):\n",
    "        item = {key: torch.tensor(val[idx]) for key, val in self.text.items()}\n",
    "        item['labels'] = torch.tensor(self.summary['input_ids'][idx])  # torch.tensor(self.summary[idx])\n",
    "        return item\n",
    "    def __len__(self):\n",
    "        return len(self.text['input_ids'])\n",
    "\n",
    "# function to prepare training data for model fine-tuning\n",
    "def prepare_data(tokenizer, x_train, y_train, x_val=None, y_val=None):\n",
    "    \n",
    "    val = False if x_val is None or y_val is None else True\n",
    "    def tokenize_data(text, summary):\n",
    "        text_tokenized = tokenizer(text, truncation=True, padding=True)\n",
    "        summary_tokenized = tokenizer(summary, truncation=True, padding=True)\n",
    "        dataset_tokenized = Dataset(text_tokenized, summary_tokenized)\n",
    "        return dataset_tokenized\n",
    "    \n",
    "    train_dataset = tokenize_data(x_train, y_train)\n",
    "    val_dataset = tokenize_data (x_val, y_val) if val else None\n",
    "    \n",
    "    return train_dataset, val_dataset"
   ]
  },
  {
   "cell_type": "code",
   "execution_count": 78,
   "metadata": {},
   "outputs": [],
   "source": [
    "# function to prepare and configure base model for fine-tuning\n",
    "def prepare_finetuning(model, train_dataset, val_dataset=None, freeze_encoder=False, output_dir='./results'):\n",
    "\n",
    "  if freeze_encoder:                                # if freeze_encoder is true\n",
    "    for param in model.model.encoder.parameters():  # freeze the encode parameters\n",
    "      param.requires_grad = False\n",
    "\n",
    "  if val_dataset is not None:\n",
    "    training_args = TrainingArguments(\n",
    "      output_dir=output_dir,            # output directory\n",
    "      adafactor=True,                   # use adafactor instead of AdamW\n",
    "      num_train_epochs=10,              # total number of training epochs\n",
    "      per_device_train_batch_size=8,    # batch size per device during training\n",
    "      per_device_eval_batch_size=8,     # batch size for evaluation\n",
    "      save_steps=500,                   # number of updates steps before checkpoint saves\n",
    "      save_total_limit=5,               # limit the total amount of checkpoints and deletes the older checkpoints\n",
    "      evaluation_strategy='steps',      # evaluation strategy to adopt during training\n",
    "      eval_steps=100,                   # number of update steps before evaluation\n",
    "      warmup_steps=500,                 # number of warmup steps for learning rate scheduler\n",
    "      weight_decay=0.01,                # strength of weight decay\n",
    "      logging_dir='./logs',             # directory for storing logs\n",
    "      logging_steps=10,\n",
    "    )\n",
    "\n",
    "    trainer = Trainer(\n",
    "      model=model,                         # the instantiated transformer model\n",
    "      args=training_args,                  # training arguments as defined above\n",
    "      train_dataset=train_dataset,         # training dataset\n",
    "      eval_dataset=val_dataset             # evaluation dataset\n",
    "    )\n",
    "\n",
    "  else:\n",
    "    training_args = TrainingArguments(\n",
    "      output_dir=output_dir,           # output directory\n",
    "      adafactor=True,                  # use adafactor instead of AdamW\n",
    "      num_train_epochs=5,             # total number of training epochs\n",
    "      per_device_train_batch_size=10,   # batch size per device during training, can increase if memory allows\n",
    "      save_steps=500,                  # number of updates steps before checkpoint saves\n",
    "      save_total_limit=5,              # limit the total amount of checkpoints and deletes the older checkpoints\n",
    "      warmup_steps=50,                # number of warmup steps for learning rate scheduler\n",
    "      weight_decay=0.01,               # strength of weight decay\n",
    "      logging_dir='./logs',            # directory for storing logs\n",
    "      logging_steps=10,\n",
    "    )\n",
    "\n",
    "    trainer = Trainer(\n",
    "      model=model,                     # the instantiated transformer model\n",
    "      args=training_args,              # training arguments as defined above\n",
    "      train_dataset=train_dataset,     # training dataset\n",
    "    )\n",
    "\n",
    "  return trainer"
   ]
  },
  {
   "cell_type": "code",
   "execution_count": 116,
   "metadata": {},
   "outputs": [
    {
     "name": "stdout",
     "output_type": "stream",
     "text": [
      "Ignored unknown kwarg option direction\n",
      "Ignored unknown kwarg option direction\n"
     ]
    }
   ],
   "source": [
    "# tokenizing the training dataset\n",
    "train_dataset,_ = prepare_data(tokenizer_cnn, x_train_list[:10000], y_train_list[:10000])"
   ]
  },
  {
   "cell_type": "code",
   "execution_count": 121,
   "metadata": {},
   "outputs": [
    {
     "data": {
      "text/plain": [
       "{'input_ids': tensor([27652, 12118,  3670,  2965, 37735, 93740,   124,  1491,   196,  1921,\n",
       "           122,   114, 76400,   328,   134,   153,   480,   115, 91623, 31306,\n",
       "           107,  4979,   273,  4851,   244,   988,   109, 13093,   108,   109,\n",
       "         76400,   729,   243,   108,   198,   284,   394,   666,   120,   178,\n",
       "           143, 12066, 37735,   158,   192,   331,   111,   133,   425,   122,\n",
       "           214,   496, 13093, 37735,   243,   109,   696,   140,   142,  2353,\n",
       "           112,  1111,   165,   112,  1074,   755,   200,   107,     1,     0,\n",
       "             0,     0,     0,     0,     0,     0,     0,     0,     0,     0,\n",
       "             0,     0,     0,     0,     0,     0,     0,     0,     0,     0,\n",
       "             0,     0,     0,     0,     0,     0,     0,     0,     0,     0,\n",
       "             0,     0,     0,     0,     0,     0,     0,     0,     0,     0,\n",
       "             0,     0,     0,     0]),\n",
       " 'attention_mask': tensor([1, 1, 1, 1, 1, 1, 1, 1, 1, 1, 1, 1, 1, 1, 1, 1, 1, 1, 1, 1, 1, 1, 1, 1,\n",
       "         1, 1, 1, 1, 1, 1, 1, 1, 1, 1, 1, 1, 1, 1, 1, 1, 1, 1, 1, 1, 1, 1, 1, 1,\n",
       "         1, 1, 1, 1, 1, 1, 1, 1, 1, 1, 1, 1, 1, 1, 1, 1, 1, 1, 1, 1, 1, 0, 0, 0,\n",
       "         0, 0, 0, 0, 0, 0, 0, 0, 0, 0, 0, 0, 0, 0, 0, 0, 0, 0, 0, 0, 0, 0, 0, 0,\n",
       "         0, 0, 0, 0, 0, 0, 0, 0, 0, 0, 0, 0, 0, 0, 0, 0, 0, 0]),\n",
       " 'labels': tensor([ 9104, 13093, 37735, 17125,   116,   134, 76400,   328,   131,   116,\n",
       "           238,   115, 91623, 31306,     1,     0,     0,     0,     0,     0,\n",
       "             0,     0,     0,     0,     0])}"
      ]
     },
     "execution_count": 121,
     "metadata": {},
     "output_type": "execute_result"
    }
   ],
   "source": [
    "train_dataset[10]"
   ]
  },
  {
   "cell_type": "code",
   "execution_count": 80,
   "metadata": {},
   "outputs": [
    {
     "name": "stderr",
     "output_type": "stream",
     "text": [
      "PyTorch: setting up devices\n",
      "The default value for the training argument `--report_to` will change in v5 (from all installed integrations to none). In v5, you will need to use `--report_to all` to get the same behavior as now. You should start updating your code and make this info disappear :-).\n"
     ]
    },
    {
     "name": "stdout",
     "output_type": "stream",
     "text": [
      "CPU times: user 16 ms, sys: 39 ms, total: 55 ms\n",
      "Wall time: 119 ms\n"
     ]
    }
   ],
   "source": [
    "%%time\n",
    "\n",
    "trainer = prepare_finetuning(model_large, train_dataset) # compile the trainer model"
   ]
  },
  {
   "cell_type": "code",
   "execution_count": 70,
   "metadata": {},
   "outputs": [],
   "source": [
    "# %%time\n",
    "# trainer.train()"
   ]
  },
  {
   "cell_type": "code",
   "execution_count": null,
   "metadata": {},
   "outputs": [],
   "source": []
  },
  {
   "cell_type": "code",
   "execution_count": null,
   "metadata": {},
   "outputs": [],
   "source": []
  },
  {
   "cell_type": "markdown",
   "metadata": {},
   "source": [
    "## Model was finetuned on the HPC"
   ]
  },
  {
   "cell_type": "code",
   "execution_count": 135,
   "metadata": {},
   "outputs": [
    {
     "data": {
      "text/plain": [
       "[\"The world's largest cruise ship, which is 1,188 feet long and weighs 228,000 tonnes, has been delivered to cruise line Royal Caribbean ahead of its maiden voyage. The 'Symphony of the Seas' ship features a zipline and an ice rink. It has over 2,700 guest rooms, including two-storey family suites that have a slide connecting the second and first floors.\",\n",
       " 'Debt-ridden Air India has received a loan worth â\\x82¹1,500 crore from Bank of India to meet urgent working capital needs, according to reports. This comes less than a month after Air India floated a tender in this regard. Prior to this, the airline had reportedly borrowed around â\\x82¹3,250 crore as short-tenure loans from IndusInd Bank and Punjab National Bank.',\n",
       " 'China-based scientists have discovered a method to convert tree leaves into a porous carbon material that can be used to make electronics. Dried phoenix tree leaves, when grounded and heated to 220 ÂºC, produced a powder of carbon microspheres. On further heating with chemical treatment, the powder developed charge-holding capacity three times that of graphene supercapacitors, researchers said.',\n",
       " 'Investor Michael Novogratz halted his plan to launch a $500 million hedge fund in cryptocurrencies and predicted that Bitcoin could drop to as low as $8,000 before rebounding. Novogratz said, \"We didn\\'t like market conditions and we wanted to re-evaluate what we\\'re doing.\" He further added, \"I didn\\'t want to have to deal with the schizophrenic emotional side of it.\"',\n",
       " 'Silicon Valley-based juicer making startup Juicero is refunding all its customers after they discovered the chopped fruit packs the startup provides with the juicers can be hand-squeezed to obtain the juice. Juicero had said its â\\x82¹26,000 juicer applies four tons of force to the packs to squeeze the juice. However, its users managed to squeeze the pack without the juicer.',\n",
       " 'A parliamentary panel has reportedly summoned RBI Governor Urjit Patel to appear before it on May 17 to answer queries on the recently-unearthed banking scams. Patel had earlier said that the RBI doesn\\'t have adequate powers to deal with public sector banks. \"We would like to know what kind of powers the RBI Governor needs,\" a panel official said.',\n",
       " 'Markets regulator SEBI on Friday allowed stock exchanges to extend trading in equity derivatives by over 8.5 hours to bring the timings in line with commodity markets. It has allowed exchanges to set trading hours in equity derivatives between 9:00 am and 11:55 pm, effective October 1, 2018. As of now, trading is allowed from 9:15 am till 3:30 pm.',\n",
       " \"The trailer of actress Manisha Koirala's comeback film 'Dear Maya' has been released. The film will revolve around the story of a lonely middle-aged spinster, portrayed by Manisha. Written and directed by Sunaina Bhatnagar, the film also stars Pakistani VJ Madiha Imam and is scheduled to release on June 2.\",\n",
       " 'Speaking about being trolled for her dialogue, \"My business is my business, none of your business\" in the film \\'Race 3\\', actress Daisy Shah said that the memes made her more popular. \"[E]ither you take it positively or you take it negatively, and I take it positively,\" the actress added. She further said she was \"very happy\" with the outcome.',\n",
       " 'A Bangladesh court on Monday sentenced former Prime Minister Khaleda Zia to seven years in jail on corruption charges. Zia was found guilty of corruption charges linked to the misappropriation of â\\x82¹2.7 crore set aside for the Zia Charitable Trust Fund. In February, another court sentenced her to five years in jail for embezzling â\\x82¹1.8 crore meant for an orphanage.']"
      ]
     },
     "execution_count": 135,
     "metadata": {},
     "output_type": "execute_result"
    }
   ],
   "source": [
    "x_test_list[:10]"
   ]
  },
  {
   "cell_type": "code",
   "execution_count": 104,
   "metadata": {},
   "outputs": [
    {
     "data": {
      "text/plain": [
       "[\"The 'Symphony of the Seas' ship features a zipline and an ice rink.\",\n",
       " 'Debt-ridden Air India has received a loan worth 11,500 crore from Bank of India to meet urgent working capital needs, according to reports.',\n",
       " 'Dried phoenix tree leaves, when grounded and heated to 220 oC, produced a powder of carbon microspheres.',\n",
       " 'Novogratz said, \"We didn\\'t like market conditions and we wanted to re-evaluate what we\\'re doing.\" He further added, \"I didn\\'t want to have to deal with the schizophrenic emotional side of it.\"',\n",
       " 'Juicero had said its 126,000 juicer applies four tons of force to the packs to squeeze the juice.',\n",
       " '\"We would like to know what kind of powers the RBI Governor needs,\" a panel official said.',\n",
       " 'It has allowed exchanges to set trading hours in equity derivatives between 9:00 am and 11:55 pm, effective October 1, 2018.',\n",
       " 'The film will revolve around the story of a lonely middle-aged spinster, portrayed by Manisha.',\n",
       " 'Speaking about being trolled for her dialogue, \"My business is my business, none of your business\" in the film \\'Race 3\\', actress Daisy Shah said that the memes made her more popular.',\n",
       " 'A Bangladesh court on Monday sentenced former Prime Minister Khaleda Zia to seven years in jail on corruption charges.']"
      ]
     },
     "execution_count": 104,
     "metadata": {},
     "output_type": "execute_result"
    }
   ],
   "source": [
    "# base model prediction\n",
    "y_test_pred[:10]"
   ]
  },
  {
   "cell_type": "code",
   "execution_count": 105,
   "metadata": {},
   "outputs": [
    {
     "data": {
      "text/plain": [
       "[\"World's largest cruise ship with zipline, ice rink delivered\",\n",
       " 'Air India gets â\\x82¹1,500-crore loan from Bank of India',\n",
       " 'Scientists convert dried tree leaves into electronics',\n",
       " 'Investor halts plan for $500 mn cryptocurrency hedge fund',\n",
       " 'Juicer startup refunds users on hand-squeezing fruit packs',\n",
       " 'Parliamentary panel summons RBI Governor over bank scams',\n",
       " \"Exchanges allowed to extend equity derivatives' trading time\",\n",
       " \"Trailer of Manisha Koirala's comeback film 'Dear Maya' out\",\n",
       " \"I've become more popular since 'Race 3' memes: Daisy Shah\",\n",
       " \"Former B'desh PM Khaleda Zia jailed for 7 years in corruption case\"]"
      ]
     },
     "execution_count": 105,
     "metadata": {},
     "output_type": "execute_result"
    }
   ],
   "source": [
    "y_test_list[:10]"
   ]
  },
  {
   "cell_type": "code",
   "execution_count": 134,
   "metadata": {},
   "outputs": [
    {
     "name": "stdout",
     "output_type": "stream",
     "text": [
      "Torch Version: 1.11.0+cu102\n",
      "Available Torc Device: cuda\n",
      "\n",
      "Reading the Dataset...\n",
      "(98401, 2)\n",
      "\n",
      "Splitting the Dataset...\n",
      "(78720,) (78720,)\n",
      "(19681,) (19681,)\n",
      "Length of the Training and Test Set...\n",
      "78720 78720\n",
      "19681 19681\n",
      "\n",
      "Tokening the dataset\n",
      "Length of the dataset: 10000\n",
      "\n",
      "Preparing model_large for finetuning...\n",
      "\n",
      "Training...\n",
      "{'loss': 9.2984, 'learning_rate': 2.5e-06, 'epoch': 0.02}\n",
      "{'loss': 9.1668, 'learning_rate': 5e-06, 'epoch': 0.04}\n",
      "{'loss': 9.0949, 'learning_rate': 7.5e-06, 'epoch': 0.06}\n",
      "{'loss': 8.6245, 'learning_rate': 1e-05, 'epoch': 0.08}\n",
      "{'loss': 8.0859, 'learning_rate': 1.25e-05, 'epoch': 0.1}\n",
      "{'loss': 7.6655, 'learning_rate': 1.5e-05, 'epoch': 0.12}\n",
      "{'loss': 7.4451, 'learning_rate': 1.75e-05, 'epoch': 0.14}\n",
      "{'loss': 6.9593, 'learning_rate': 2e-05, 'epoch': 0.16}\n",
      "{'loss': 7.0623, 'learning_rate': 2.25e-05, 'epoch': 0.18}\n",
      "{'loss': 6.6862, 'learning_rate': 2.5e-05, 'epoch': 0.2}\n",
      "{'loss': 6.6415, 'learning_rate': 2.7500000000000004e-05, 'epoch': 0.22}\n",
      "{'loss': 6.2933, 'learning_rate': 3e-05, 'epoch': 0.24}\n",
      "{'loss': 6.319, 'learning_rate': 3.2500000000000004e-05, 'epoch': 0.26}\n",
      "{'loss': 6.2626, 'learning_rate': 3.5e-05, 'epoch': 0.28}\n",
      "{'loss': 6.07, 'learning_rate': 3.7500000000000003e-05, 'epoch': 0.3}\n",
      "{'loss': 5.7535, 'learning_rate': 4e-05, 'epoch': 0.32}\n",
      "{'loss': 5.861, 'learning_rate': 4.25e-05, 'epoch': 0.34}\n",
      "{'loss': 5.831, 'learning_rate': 4.5e-05, 'epoch': 0.36}\n",
      "{'loss': 5.7382, 'learning_rate': 4.75e-05, 'epoch': 0.38}\n",
      "{'loss': 5.6709, 'learning_rate': 5e-05, 'epoch': 0.4}\n",
      "{'loss': 5.6487, 'learning_rate': 4.989583333333334e-05, 'epoch': 0.42}\n",
      "{'loss': 5.5664, 'learning_rate': 4.979166666666667e-05, 'epoch': 0.44}\n",
      "{'loss': 5.3367, 'learning_rate': 4.96875e-05, 'epoch': 0.46}\n",
      "{'loss': 5.3361, 'learning_rate': 4.958333333333334e-05, 'epoch': 0.48}\n",
      "{'loss': 5.1226, 'learning_rate': 4.947916666666667e-05, 'epoch': 0.5}\n",
      "{'loss': 4.8916, 'learning_rate': 4.937500000000001e-05, 'epoch': 0.52}\n",
      "{'loss': 4.7408, 'learning_rate': 4.9270833333333336e-05, 'epoch': 0.54}\n",
      "{'loss': 4.4275, 'learning_rate': 4.9166666666666665e-05, 'epoch': 0.56}\n",
      "{'loss': 3.9929, 'learning_rate': 4.90625e-05, 'epoch': 0.58}\n",
      "{'loss': 3.6849, 'learning_rate': 4.8958333333333335e-05, 'epoch': 0.6}\n",
      "{'loss': 3.1857, 'learning_rate': 4.885416666666667e-05, 'epoch': 0.62}\n",
      "{'loss': 2.772, 'learning_rate': 4.875e-05, 'epoch': 0.64}\n",
      "{'loss': 2.3721, 'learning_rate': 4.8645833333333334e-05, 'epoch': 0.66}\n",
      "{'loss': 2.1359, 'learning_rate': 4.854166666666667e-05, 'epoch': 0.68}\n",
      "{'loss': 1.6649, 'learning_rate': 4.8437500000000005e-05, 'epoch': 0.7}\n",
      "{'loss': 1.4206, 'learning_rate': 4.8333333333333334e-05, 'epoch': 0.72}\n",
      "{'loss': 1.2105, 'learning_rate': 4.822916666666667e-05, 'epoch': 0.74}\n",
      "{'loss': 1.1105, 'learning_rate': 4.8125000000000004e-05, 'epoch': 0.76}\n",
      "{'loss': 0.9469, 'learning_rate': 4.802083333333334e-05, 'epoch': 0.78}\n",
      "{'loss': 0.984, 'learning_rate': 4.791666666666667e-05, 'epoch': 0.8}\n",
      "{'loss': 0.9395, 'learning_rate': 4.7812500000000003e-05, 'epoch': 0.82}\n",
      "{'loss': 0.8485, 'learning_rate': 4.770833333333334e-05, 'epoch': 0.84}\n",
      "{'loss': 0.8774, 'learning_rate': 4.760416666666667e-05, 'epoch': 0.86}\n",
      "{'loss': 0.857, 'learning_rate': 4.75e-05, 'epoch': 0.88}\n",
      "{'loss': 0.8459, 'learning_rate': 4.739583333333333e-05, 'epoch': 0.9}\n",
      "{'loss': 0.8845, 'learning_rate': 4.7291666666666666e-05, 'epoch': 0.92}\n",
      "{'loss': 0.8371, 'learning_rate': 4.71875e-05, 'epoch': 0.94}\n",
      "{'loss': 0.8384, 'learning_rate': 4.708333333333334e-05, 'epoch': 0.96}\n",
      "{'loss': 0.8318, 'learning_rate': 4.6979166666666666e-05, 'epoch': 0.98}\n",
      "{'loss': 0.8181, 'learning_rate': 4.6875e-05, 'epoch': 1.0}\n",
      "{'loss': 0.7703, 'learning_rate': 4.6770833333333336e-05, 'epoch': 1.02}\n",
      "{'loss': 0.7687, 'learning_rate': 4.666666666666667e-05, 'epoch': 1.04}\n",
      "{'loss': 0.7518, 'learning_rate': 4.65625e-05, 'epoch': 1.06}\n",
      "{'loss': 0.7646, 'learning_rate': 4.6458333333333335e-05, 'epoch': 1.08}\n",
      "{'loss': 0.7789, 'learning_rate': 4.635416666666667e-05, 'epoch': 1.1}\n",
      "{'loss': 0.7464, 'learning_rate': 4.6250000000000006e-05, 'epoch': 1.12}\n",
      "{'loss': 0.7734, 'learning_rate': 4.614583333333334e-05, 'epoch': 1.14}\n",
      "{'loss': 0.7307, 'learning_rate': 4.604166666666666e-05, 'epoch': 1.16}\n",
      "{'loss': 0.787, 'learning_rate': 4.59375e-05, 'epoch': 1.18}\n",
      "{'loss': 0.677, 'learning_rate': 4.5833333333333334e-05, 'epoch': 1.2}\n",
      "{'loss': 0.672, 'learning_rate': 4.572916666666667e-05, 'epoch': 1.22}\n",
      "{'loss': 0.772, 'learning_rate': 4.5625e-05, 'epoch': 1.24}\n",
      "{'loss': 0.743, 'learning_rate': 4.552083333333333e-05, 'epoch': 1.26}\n",
      "{'loss': 0.7491, 'learning_rate': 4.541666666666667e-05, 'epoch': 1.28}\n",
      "{'loss': 0.712, 'learning_rate': 4.5312500000000004e-05, 'epoch': 1.3}\n",
      "{'loss': 0.6685, 'learning_rate': 4.520833333333334e-05, 'epoch': 1.32}\n",
      "{'loss': 0.7365, 'learning_rate': 4.510416666666667e-05, 'epoch': 1.34}\n",
      "{'loss': 0.7162, 'learning_rate': 4.5e-05, 'epoch': 1.36}\n",
      "{'loss': 0.7923, 'learning_rate': 4.489583333333334e-05, 'epoch': 1.38}\n",
      "{'loss': 0.7097, 'learning_rate': 4.4791666666666673e-05, 'epoch': 1.4}\n",
      "{'loss': 0.7512, 'learning_rate': 4.46875e-05, 'epoch': 1.42}\n",
      "{'loss': 0.7227, 'learning_rate': 4.458333333333334e-05, 'epoch': 1.44}\n",
      "{'loss': 0.6921, 'learning_rate': 4.4479166666666666e-05, 'epoch': 1.46}\n",
      "{'loss': 0.7123, 'learning_rate': 4.4375e-05, 'epoch': 1.48}\n",
      "{'loss': 0.7047, 'learning_rate': 4.4270833333333337e-05, 'epoch': 1.5}\n",
      "{'loss': 0.7199, 'learning_rate': 4.4166666666666665e-05, 'epoch': 1.52}\n",
      "{'loss': 0.7462, 'learning_rate': 4.40625e-05, 'epoch': 1.54}\n",
      "{'loss': 0.7355, 'learning_rate': 4.3958333333333336e-05, 'epoch': 1.56}\n",
      "{'loss': 0.7268, 'learning_rate': 4.385416666666667e-05, 'epoch': 1.58}\n",
      "{'loss': 0.7914, 'learning_rate': 4.375e-05, 'epoch': 1.6}\n",
      "{'loss': 0.7204, 'learning_rate': 4.3645833333333335e-05, 'epoch': 1.62}\n",
      "{'loss': 0.7067, 'learning_rate': 4.354166666666667e-05, 'epoch': 1.64}\n",
      "{'loss': 0.7286, 'learning_rate': 4.3437500000000006e-05, 'epoch': 1.66}\n",
      "{'loss': 0.7011, 'learning_rate': 4.3333333333333334e-05, 'epoch': 1.68}\n",
      "{'loss': 0.7756, 'learning_rate': 4.322916666666667e-05, 'epoch': 1.7}\n",
      "{'loss': 0.6957, 'learning_rate': 4.3125000000000005e-05, 'epoch': 1.72}\n",
      "{'loss': 0.7063, 'learning_rate': 4.302083333333334e-05, 'epoch': 1.74}\n",
      "{'loss': 0.6872, 'learning_rate': 4.291666666666667e-05, 'epoch': 1.76}\n",
      "{'loss': 0.6984, 'learning_rate': 4.28125e-05, 'epoch': 1.78}\n",
      "{'loss': 0.7556, 'learning_rate': 4.270833333333333e-05, 'epoch': 1.8}\n",
      "{'loss': 0.6813, 'learning_rate': 4.260416666666667e-05, 'epoch': 1.82}\n",
      "{'loss': 0.6708, 'learning_rate': 4.25e-05, 'epoch': 1.84}\n",
      "{'loss': 0.7192, 'learning_rate': 4.239583333333333e-05, 'epoch': 1.86}\n",
      "{'loss': 0.7522, 'learning_rate': 4.229166666666667e-05, 'epoch': 1.88}\n",
      "{'loss': 0.7243, 'learning_rate': 4.21875e-05, 'epoch': 1.9}\n",
      "{'loss': 0.6919, 'learning_rate': 4.208333333333334e-05, 'epoch': 1.92}\n",
      "{'loss': 0.6984, 'learning_rate': 4.1979166666666666e-05, 'epoch': 1.94}\n",
      "{'loss': 0.7089, 'learning_rate': 4.1875e-05, 'epoch': 1.96}\n",
      "{'loss': 0.6763, 'learning_rate': 4.177083333333334e-05, 'epoch': 1.98}\n",
      "{'loss': 0.709, 'learning_rate': 4.166666666666667e-05, 'epoch': 2.0}\n",
      "{'loss': 0.6446, 'learning_rate': 4.156250000000001e-05, 'epoch': 2.02}\n",
      "{'loss': 0.6168, 'learning_rate': 4.1458333333333336e-05, 'epoch': 2.04}\n",
      "{'loss': 0.6016, 'learning_rate': 4.1354166666666664e-05, 'epoch': 2.06}\n",
      "{'loss': 0.6998, 'learning_rate': 4.125e-05, 'epoch': 2.08}\n",
      "{'loss': 0.6477, 'learning_rate': 4.1145833333333335e-05, 'epoch': 2.1}\n",
      "{'loss': 0.6077, 'learning_rate': 4.104166666666667e-05, 'epoch': 2.12}\n",
      "{'loss': 0.6692, 'learning_rate': 4.09375e-05, 'epoch': 2.14}\n",
      "{'loss': 0.6213, 'learning_rate': 4.0833333333333334e-05, 'epoch': 2.16}\n",
      "{'loss': 0.6973, 'learning_rate': 4.072916666666667e-05, 'epoch': 2.18}\n",
      "{'loss': 0.6565, 'learning_rate': 4.0625000000000005e-05, 'epoch': 2.2}\n",
      "{'loss': 0.613, 'learning_rate': 4.0520833333333333e-05, 'epoch': 2.22}\n",
      "{'loss': 0.6363, 'learning_rate': 4.041666666666667e-05, 'epoch': 2.24}\n",
      "{'loss': 0.6214, 'learning_rate': 4.0312500000000004e-05, 'epoch': 2.26}\n",
      "{'loss': 0.5807, 'learning_rate': 4.020833333333334e-05, 'epoch': 2.28}\n",
      "{'loss': 0.6796, 'learning_rate': 4.010416666666667e-05, 'epoch': 2.3}\n",
      "{'loss': 0.6182, 'learning_rate': 4e-05, 'epoch': 2.32}\n",
      "{'loss': 0.6266, 'learning_rate': 3.989583333333334e-05, 'epoch': 2.34}\n",
      "{'loss': 0.6332, 'learning_rate': 3.979166666666667e-05, 'epoch': 2.36}\n",
      "{'loss': 0.643, 'learning_rate': 3.96875e-05, 'epoch': 2.38}\n",
      "{'loss': 0.6109, 'learning_rate': 3.958333333333333e-05, 'epoch': 2.4}\n",
      "{'loss': 0.6465, 'learning_rate': 3.9479166666666666e-05, 'epoch': 2.42}\n",
      "{'loss': 0.6543, 'learning_rate': 3.9375e-05, 'epoch': 2.44}\n",
      "{'loss': 0.6072, 'learning_rate': 3.927083333333334e-05, 'epoch': 2.46}\n",
      "{'loss': 0.6221, 'learning_rate': 3.9166666666666665e-05, 'epoch': 2.48}\n",
      "{'loss': 0.6456, 'learning_rate': 3.90625e-05, 'epoch': 2.5}\n",
      "{'loss': 0.6241, 'learning_rate': 3.8958333333333336e-05, 'epoch': 2.52}\n",
      "{'loss': 0.6289, 'learning_rate': 3.885416666666667e-05, 'epoch': 2.54}\n",
      "{'loss': 0.6337, 'learning_rate': 3.875e-05, 'epoch': 2.56}\n",
      "{'loss': 0.6438, 'learning_rate': 3.8645833333333335e-05, 'epoch': 2.58}\n",
      "{'loss': 0.6659, 'learning_rate': 3.854166666666667e-05, 'epoch': 2.6}\n",
      "{'loss': 0.6149, 'learning_rate': 3.8437500000000006e-05, 'epoch': 2.62}\n",
      "{'loss': 0.6218, 'learning_rate': 3.8333333333333334e-05, 'epoch': 2.64}\n",
      "{'loss': 0.6641, 'learning_rate': 3.822916666666666e-05, 'epoch': 2.66}\n",
      "{'loss': 0.6531, 'learning_rate': 3.8125e-05, 'epoch': 2.68}\n",
      "{'loss': 0.6726, 'learning_rate': 3.8020833333333334e-05, 'epoch': 2.7}\n",
      "{'loss': 0.6477, 'learning_rate': 3.791666666666667e-05, 'epoch': 2.72}\n",
      "{'loss': 0.627, 'learning_rate': 3.78125e-05, 'epoch': 2.74}\n",
      "{'loss': 0.6053, 'learning_rate': 3.770833333333333e-05, 'epoch': 2.76}\n",
      "{'loss': 0.6341, 'learning_rate': 3.760416666666667e-05, 'epoch': 2.78}\n",
      "{'loss': 0.6351, 'learning_rate': 3.7500000000000003e-05, 'epoch': 2.8}\n",
      "{'loss': 0.6148, 'learning_rate': 3.739583333333334e-05, 'epoch': 2.82}\n",
      "{'loss': 0.6477, 'learning_rate': 3.729166666666667e-05, 'epoch': 2.84}\n",
      "{'loss': 0.6535, 'learning_rate': 3.71875e-05, 'epoch': 2.86}\n",
      "{'loss': 0.6365, 'learning_rate': 3.708333333333334e-05, 'epoch': 2.88}\n",
      "{'loss': 0.6114, 'learning_rate': 3.697916666666667e-05, 'epoch': 2.9}\n",
      "{'loss': 0.6662, 'learning_rate': 3.6875e-05, 'epoch': 2.92}\n",
      "{'loss': 0.6437, 'learning_rate': 3.677083333333334e-05, 'epoch': 2.94}\n",
      "{'loss': 0.6139, 'learning_rate': 3.6666666666666666e-05, 'epoch': 2.96}\n",
      "{'loss': 0.6625, 'learning_rate': 3.65625e-05, 'epoch': 2.98}\n",
      "{'loss': 0.6381, 'learning_rate': 3.6458333333333336e-05, 'epoch': 3.0}\n",
      "{'loss': 0.586, 'learning_rate': 3.6354166666666665e-05, 'epoch': 3.02}\n",
      "{'loss': 0.5627, 'learning_rate': 3.625e-05, 'epoch': 3.04}\n",
      "{'loss': 0.5903, 'learning_rate': 3.6145833333333336e-05, 'epoch': 3.06}\n",
      "{'loss': 0.615, 'learning_rate': 3.604166666666667e-05, 'epoch': 3.08}\n",
      "{'loss': 0.565, 'learning_rate': 3.59375e-05, 'epoch': 3.1}\n",
      "{'loss': 0.5906, 'learning_rate': 3.5833333333333335e-05, 'epoch': 3.12}\n",
      "{'loss': 0.536, 'learning_rate': 3.572916666666667e-05, 'epoch': 3.14}\n",
      "{'loss': 0.5705, 'learning_rate': 3.5625000000000005e-05, 'epoch': 3.16}\n",
      "{'loss': 0.6007, 'learning_rate': 3.5520833333333334e-05, 'epoch': 3.18}\n",
      "{'loss': 0.5865, 'learning_rate': 3.541666666666667e-05, 'epoch': 3.2}\n",
      "{'loss': 0.5829, 'learning_rate': 3.5312500000000005e-05, 'epoch': 3.22}\n",
      "{'loss': 0.5864, 'learning_rate': 3.520833333333334e-05, 'epoch': 3.24}\n",
      "{'loss': 0.5902, 'learning_rate': 3.510416666666667e-05, 'epoch': 3.26}\n",
      "{'loss': 0.5843, 'learning_rate': 3.5e-05, 'epoch': 3.28}\n",
      "{'loss': 0.59, 'learning_rate': 3.489583333333333e-05, 'epoch': 3.3}\n",
      "{'loss': 0.5863, 'learning_rate': 3.479166666666667e-05, 'epoch': 3.32}\n",
      "{'loss': 0.5819, 'learning_rate': 3.46875e-05, 'epoch': 3.34}\n",
      "{'loss': 0.5766, 'learning_rate': 3.458333333333333e-05, 'epoch': 3.36}\n",
      "{'loss': 0.5825, 'learning_rate': 3.447916666666667e-05, 'epoch': 3.38}\n",
      "{'loss': 0.5729, 'learning_rate': 3.4375e-05, 'epoch': 3.4}\n",
      "{'loss': 0.6101, 'learning_rate': 3.427083333333334e-05, 'epoch': 3.42}\n",
      "{'loss': 0.5434, 'learning_rate': 3.4166666666666666e-05, 'epoch': 3.44}\n",
      "{'loss': 0.5838, 'learning_rate': 3.40625e-05, 'epoch': 3.46}\n",
      "{'loss': 0.602, 'learning_rate': 3.3958333333333337e-05, 'epoch': 3.48}\n",
      "{'loss': 0.5721, 'learning_rate': 3.385416666666667e-05, 'epoch': 3.5}\n",
      "{'loss': 0.6018, 'learning_rate': 3.375000000000001e-05, 'epoch': 3.52}\n",
      "{'loss': 0.6026, 'learning_rate': 3.3645833333333336e-05, 'epoch': 3.54}\n",
      "{'loss': 0.5669, 'learning_rate': 3.3541666666666664e-05, 'epoch': 3.56}\n",
      "{'loss': 0.5866, 'learning_rate': 3.34375e-05, 'epoch': 3.58}\n",
      "{'loss': 0.5932, 'learning_rate': 3.3333333333333335e-05, 'epoch': 3.6}\n",
      "{'loss': 0.566, 'learning_rate': 3.3229166666666663e-05, 'epoch': 3.62}\n",
      "{'loss': 0.6182, 'learning_rate': 3.3125e-05, 'epoch': 3.64}\n",
      "{'loss': 0.5741, 'learning_rate': 3.3020833333333334e-05, 'epoch': 3.66}\n",
      "{'loss': 0.5532, 'learning_rate': 3.291666666666667e-05, 'epoch': 3.68}\n",
      "{'loss': 0.5723, 'learning_rate': 3.2812500000000005e-05, 'epoch': 3.7}\n",
      "{'loss': 0.5688, 'learning_rate': 3.270833333333333e-05, 'epoch': 3.72}\n",
      "{'loss': 0.5804, 'learning_rate': 3.260416666666667e-05, 'epoch': 3.74}\n",
      "{'loss': 0.596, 'learning_rate': 3.2500000000000004e-05, 'epoch': 3.76}\n",
      "{'loss': 0.623, 'learning_rate': 3.239583333333334e-05, 'epoch': 3.78}\n",
      "{'loss': 0.5451, 'learning_rate': 3.229166666666667e-05, 'epoch': 3.8}\n",
      "{'loss': 0.5463, 'learning_rate': 3.21875e-05, 'epoch': 3.82}\n",
      "{'loss': 0.5819, 'learning_rate': 3.208333333333334e-05, 'epoch': 3.84}\n",
      "{'loss': 0.5437, 'learning_rate': 3.197916666666667e-05, 'epoch': 3.86}\n",
      "{'loss': 0.5871, 'learning_rate': 3.1875e-05, 'epoch': 3.88}\n",
      "{'loss': 0.5444, 'learning_rate': 3.177083333333333e-05, 'epoch': 3.9}\n",
      "{'loss': 0.562, 'learning_rate': 3.1666666666666666e-05, 'epoch': 3.92}\n",
      "{'loss': 0.572, 'learning_rate': 3.15625e-05, 'epoch': 3.94}\n",
      "{'loss': 0.5701, 'learning_rate': 3.145833333333334e-05, 'epoch': 3.96}\n",
      "{'loss': 0.5842, 'learning_rate': 3.1354166666666665e-05, 'epoch': 3.98}\n",
      "{'loss': 0.5856, 'learning_rate': 3.125e-05, 'epoch': 4.0}\n",
      "{'loss': 0.564, 'learning_rate': 3.1145833333333336e-05, 'epoch': 4.02}\n",
      "{'loss': 0.5276, 'learning_rate': 3.104166666666667e-05, 'epoch': 4.04}\n",
      "{'loss': 0.517, 'learning_rate': 3.09375e-05, 'epoch': 4.06}\n",
      "{'loss': 0.5313, 'learning_rate': 3.0833333333333335e-05, 'epoch': 4.08}\n",
      "{'loss': 0.517, 'learning_rate': 3.072916666666667e-05, 'epoch': 4.1}\n",
      "{'loss': 0.5662, 'learning_rate': 3.0625000000000006e-05, 'epoch': 4.12}\n",
      "{'loss': 0.5426, 'learning_rate': 3.0520833333333334e-05, 'epoch': 4.14}\n",
      "{'loss': 0.5202, 'learning_rate': 3.0416666666666666e-05, 'epoch': 4.16}\n",
      "{'loss': 0.5349, 'learning_rate': 3.0312499999999998e-05, 'epoch': 4.18}\n",
      "{'loss': 0.5486, 'learning_rate': 3.0208333333333334e-05, 'epoch': 4.2}\n",
      "{'loss': 0.5305, 'learning_rate': 3.0104166666666665e-05, 'epoch': 4.22}\n",
      "{'loss': 0.5625, 'learning_rate': 3e-05, 'epoch': 4.24}\n",
      "{'loss': 0.5343, 'learning_rate': 2.9895833333333333e-05, 'epoch': 4.26}\n",
      "{'loss': 0.5242, 'learning_rate': 2.9791666666666668e-05, 'epoch': 4.28}\n",
      "{'loss': 0.5153, 'learning_rate': 2.96875e-05, 'epoch': 4.3}\n",
      "{'loss': 0.5336, 'learning_rate': 2.9583333333333335e-05, 'epoch': 4.32}\n",
      "{'loss': 0.5572, 'learning_rate': 2.9479166666666667e-05, 'epoch': 4.34}\n",
      "{'loss': 0.5051, 'learning_rate': 2.9375000000000003e-05, 'epoch': 4.36}\n",
      "{'loss': 0.5713, 'learning_rate': 2.9270833333333338e-05, 'epoch': 4.38}\n",
      "{'loss': 0.5127, 'learning_rate': 2.916666666666667e-05, 'epoch': 4.4}\n",
      "{'loss': 0.5364, 'learning_rate': 2.9062500000000005e-05, 'epoch': 4.42}\n",
      "{'loss': 0.5418, 'learning_rate': 2.8958333333333337e-05, 'epoch': 4.44}\n",
      "{'loss': 0.5489, 'learning_rate': 2.8854166666666666e-05, 'epoch': 4.46}\n",
      "{'loss': 0.5562, 'learning_rate': 2.8749999999999997e-05, 'epoch': 4.48}\n",
      "{'loss': 0.5327, 'learning_rate': 2.8645833333333333e-05, 'epoch': 4.5}\n",
      "{'loss': 0.5419, 'learning_rate': 2.8541666666666668e-05, 'epoch': 4.52}\n",
      "{'loss': 0.5878, 'learning_rate': 2.84375e-05, 'epoch': 4.54}\n",
      "{'loss': 0.5888, 'learning_rate': 2.8333333333333335e-05, 'epoch': 4.56}\n",
      "{'loss': 0.5158, 'learning_rate': 2.8229166666666667e-05, 'epoch': 4.58}\n",
      "{'loss': 0.5527, 'learning_rate': 2.8125000000000003e-05, 'epoch': 4.6}\n",
      "{'loss': 0.5525, 'learning_rate': 2.8020833333333335e-05, 'epoch': 4.62}\n",
      "{'loss': 0.5263, 'learning_rate': 2.791666666666667e-05, 'epoch': 4.64}\n",
      "{'loss': 0.5238, 'learning_rate': 2.7812500000000002e-05, 'epoch': 4.66}\n",
      "{'loss': 0.5512, 'learning_rate': 2.7708333333333337e-05, 'epoch': 4.68}\n",
      "{'loss': 0.5109, 'learning_rate': 2.760416666666667e-05, 'epoch': 4.7}\n",
      "{'loss': 0.5442, 'learning_rate': 2.7500000000000004e-05, 'epoch': 4.72}\n",
      "{'loss': 0.5288, 'learning_rate': 2.7395833333333336e-05, 'epoch': 4.74}\n",
      "{'loss': 0.5051, 'learning_rate': 2.7291666666666665e-05, 'epoch': 4.76}\n",
      "{'loss': 0.5351, 'learning_rate': 2.71875e-05, 'epoch': 4.78}\n",
      "{'loss': 0.5621, 'learning_rate': 2.7083333333333332e-05, 'epoch': 4.8}\n",
      "{'loss': 0.5451, 'learning_rate': 2.6979166666666667e-05, 'epoch': 4.82}\n",
      "{'loss': 0.5399, 'learning_rate': 2.6875e-05, 'epoch': 4.84}\n",
      "{'loss': 0.5406, 'learning_rate': 2.6770833333333335e-05, 'epoch': 4.86}\n",
      "{'loss': 0.5326, 'learning_rate': 2.6666666666666667e-05, 'epoch': 4.88}\n",
      "{'loss': 0.5425, 'learning_rate': 2.6562500000000002e-05, 'epoch': 4.9}\n",
      "{'loss': 0.5668, 'learning_rate': 2.6458333333333334e-05, 'epoch': 4.92}\n",
      "{'loss': 0.5561, 'learning_rate': 2.635416666666667e-05, 'epoch': 4.94}\n",
      "{'loss': 0.5324, 'learning_rate': 2.625e-05, 'epoch': 4.96}\n",
      "{'loss': 0.5215, 'learning_rate': 2.6145833333333336e-05, 'epoch': 4.98}\n",
      "{'loss': 0.4942, 'learning_rate': 2.604166666666667e-05, 'epoch': 5.0}\n",
      "{'loss': 0.4981, 'learning_rate': 2.5937500000000004e-05, 'epoch': 5.02}\n",
      "{'loss': 0.482, 'learning_rate': 2.5833333333333336e-05, 'epoch': 5.04}\n",
      "{'loss': 0.5139, 'learning_rate': 2.5729166666666664e-05, 'epoch': 5.06}\n",
      "{'loss': 0.5202, 'learning_rate': 2.5625e-05, 'epoch': 5.08}\n",
      "{'loss': 0.5296, 'learning_rate': 2.552083333333333e-05, 'epoch': 5.1}\n",
      "{'loss': 0.5067, 'learning_rate': 2.5416666666666667e-05, 'epoch': 5.12}\n",
      "{'loss': 0.5392, 'learning_rate': 2.53125e-05, 'epoch': 5.14}\n",
      "{'loss': 0.4699, 'learning_rate': 2.5208333333333334e-05, 'epoch': 5.16}\n",
      "{'loss': 0.4979, 'learning_rate': 2.5104166666666666e-05, 'epoch': 5.18}\n",
      "{'loss': 0.5538, 'learning_rate': 2.5e-05, 'epoch': 5.2}\n",
      "{'loss': 0.4896, 'learning_rate': 2.4895833333333337e-05, 'epoch': 5.22}\n",
      "{'loss': 0.5056, 'learning_rate': 2.479166666666667e-05, 'epoch': 5.24}\n",
      "{'loss': 0.4795, 'learning_rate': 2.4687500000000004e-05, 'epoch': 5.26}\n",
      "{'loss': 0.5004, 'learning_rate': 2.4583333333333332e-05, 'epoch': 5.28}\n",
      "{'loss': 0.4944, 'learning_rate': 2.4479166666666668e-05, 'epoch': 5.3}\n",
      "{'loss': 0.5015, 'learning_rate': 2.4375e-05, 'epoch': 5.32}\n",
      "{'loss': 0.5213, 'learning_rate': 2.4270833333333335e-05, 'epoch': 5.34}\n",
      "{'loss': 0.483, 'learning_rate': 2.4166666666666667e-05, 'epoch': 5.36}\n",
      "{'loss': 0.5432, 'learning_rate': 2.4062500000000002e-05, 'epoch': 5.38}\n",
      "{'loss': 0.5126, 'learning_rate': 2.3958333333333334e-05, 'epoch': 5.4}\n",
      "{'loss': 0.5327, 'learning_rate': 2.385416666666667e-05, 'epoch': 5.42}\n",
      "{'loss': 0.4985, 'learning_rate': 2.375e-05, 'epoch': 5.44}\n",
      "{'loss': 0.4985, 'learning_rate': 2.3645833333333333e-05, 'epoch': 5.46}\n",
      "{'loss': 0.5193, 'learning_rate': 2.354166666666667e-05, 'epoch': 5.48}\n",
      "{'loss': 0.538, 'learning_rate': 2.34375e-05, 'epoch': 5.5}\n",
      "{'loss': 0.4706, 'learning_rate': 2.3333333333333336e-05, 'epoch': 5.52}\n",
      "{'loss': 0.5127, 'learning_rate': 2.3229166666666668e-05, 'epoch': 5.54}\n",
      "{'loss': 0.5038, 'learning_rate': 2.3125000000000003e-05, 'epoch': 5.56}\n",
      "{'loss': 0.4723, 'learning_rate': 2.302083333333333e-05, 'epoch': 5.58}\n",
      "{'loss': 0.5045, 'learning_rate': 2.2916666666666667e-05, 'epoch': 5.6}\n",
      "{'loss': 0.5016, 'learning_rate': 2.28125e-05, 'epoch': 5.62}\n",
      "{'loss': 0.4766, 'learning_rate': 2.2708333333333334e-05, 'epoch': 5.64}\n",
      "{'loss': 0.5036, 'learning_rate': 2.260416666666667e-05, 'epoch': 5.66}\n",
      "{'loss': 0.4458, 'learning_rate': 2.25e-05, 'epoch': 5.68}\n",
      "{'loss': 0.5085, 'learning_rate': 2.2395833333333337e-05, 'epoch': 5.7}\n",
      "{'loss': 0.5156, 'learning_rate': 2.229166666666667e-05, 'epoch': 5.72}\n",
      "{'loss': 0.5199, 'learning_rate': 2.21875e-05, 'epoch': 5.74}\n",
      "{'loss': 0.4963, 'learning_rate': 2.2083333333333333e-05, 'epoch': 5.76}\n",
      "{'loss': 0.5274, 'learning_rate': 2.1979166666666668e-05, 'epoch': 5.78}\n",
      "{'loss': 0.5224, 'learning_rate': 2.1875e-05, 'epoch': 5.8}\n",
      "{'loss': 0.5359, 'learning_rate': 2.1770833333333335e-05, 'epoch': 5.82}\n",
      "{'loss': 0.5064, 'learning_rate': 2.1666666666666667e-05, 'epoch': 5.84}\n",
      "{'loss': 0.5374, 'learning_rate': 2.1562500000000002e-05, 'epoch': 5.86}\n",
      "{'loss': 0.5156, 'learning_rate': 2.1458333333333334e-05, 'epoch': 5.88}\n",
      "{'loss': 0.5182, 'learning_rate': 2.1354166666666666e-05, 'epoch': 5.9}\n",
      "{'loss': 0.5154, 'learning_rate': 2.125e-05, 'epoch': 5.92}\n",
      "{'loss': 0.4919, 'learning_rate': 2.1145833333333333e-05, 'epoch': 5.94}\n",
      "{'loss': 0.482, 'learning_rate': 2.104166666666667e-05, 'epoch': 5.96}\n",
      "{'loss': 0.5174, 'learning_rate': 2.09375e-05, 'epoch': 5.98}\n",
      "{'loss': 0.4897, 'learning_rate': 2.0833333333333336e-05, 'epoch': 6.0}\n",
      "{'loss': 0.4766, 'learning_rate': 2.0729166666666668e-05, 'epoch': 6.02}\n",
      "{'loss': 0.4843, 'learning_rate': 2.0625e-05, 'epoch': 6.04}\n",
      "{'loss': 0.4737, 'learning_rate': 2.0520833333333335e-05, 'epoch': 6.06}\n",
      "{'loss': 0.4958, 'learning_rate': 2.0416666666666667e-05, 'epoch': 6.08}\n",
      "{'loss': 0.4728, 'learning_rate': 2.0312500000000002e-05, 'epoch': 6.1}\n",
      "{'loss': 0.4815, 'learning_rate': 2.0208333333333334e-05, 'epoch': 6.12}\n",
      "{'loss': 0.4587, 'learning_rate': 2.010416666666667e-05, 'epoch': 6.14}\n",
      "{'loss': 0.4639, 'learning_rate': 2e-05, 'epoch': 6.16}\n",
      "{'loss': 0.4838, 'learning_rate': 1.9895833333333334e-05, 'epoch': 6.18}\n",
      "{'loss': 0.4444, 'learning_rate': 1.9791666666666665e-05, 'epoch': 6.2}\n",
      "{'loss': 0.5204, 'learning_rate': 1.96875e-05, 'epoch': 6.22}\n",
      "{'loss': 0.46, 'learning_rate': 1.9583333333333333e-05, 'epoch': 6.24}\n",
      "{'loss': 0.4975, 'learning_rate': 1.9479166666666668e-05, 'epoch': 6.26}\n",
      "{'loss': 0.4612, 'learning_rate': 1.9375e-05, 'epoch': 6.28}\n",
      "{'loss': 0.4707, 'learning_rate': 1.9270833333333335e-05, 'epoch': 6.3}\n",
      "{'loss': 0.4593, 'learning_rate': 1.9166666666666667e-05, 'epoch': 6.32}\n",
      "{'loss': 0.4727, 'learning_rate': 1.90625e-05, 'epoch': 6.34}\n",
      "{'loss': 0.466, 'learning_rate': 1.8958333333333334e-05, 'epoch': 6.36}\n",
      "{'loss': 0.5045, 'learning_rate': 1.8854166666666666e-05, 'epoch': 6.38}\n",
      "{'loss': 0.4942, 'learning_rate': 1.8750000000000002e-05, 'epoch': 6.4}\n",
      "{'loss': 0.4704, 'learning_rate': 1.8645833333333334e-05, 'epoch': 6.42}\n",
      "{'loss': 0.476, 'learning_rate': 1.854166666666667e-05, 'epoch': 6.44}\n",
      "{'loss': 0.4899, 'learning_rate': 1.84375e-05, 'epoch': 6.46}\n",
      "{'loss': 0.4768, 'learning_rate': 1.8333333333333333e-05, 'epoch': 6.48}\n",
      "{'loss': 0.4728, 'learning_rate': 1.8229166666666668e-05, 'epoch': 6.5}\n",
      "{'loss': 0.4822, 'learning_rate': 1.8125e-05, 'epoch': 6.52}\n",
      "{'loss': 0.4802, 'learning_rate': 1.8020833333333335e-05, 'epoch': 6.54}\n",
      "{'loss': 0.5274, 'learning_rate': 1.7916666666666667e-05, 'epoch': 6.56}\n",
      "{'loss': 0.5093, 'learning_rate': 1.7812500000000003e-05, 'epoch': 6.58}\n",
      "{'loss': 0.4777, 'learning_rate': 1.7708333333333335e-05, 'epoch': 6.6}\n",
      "{'loss': 0.4891, 'learning_rate': 1.760416666666667e-05, 'epoch': 6.62}\n",
      "{'loss': 0.5027, 'learning_rate': 1.75e-05, 'epoch': 6.64}\n",
      "{'loss': 0.5014, 'learning_rate': 1.7395833333333334e-05, 'epoch': 6.66}\n",
      "{'loss': 0.4599, 'learning_rate': 1.7291666666666666e-05, 'epoch': 6.68}\n",
      "{'loss': 0.4634, 'learning_rate': 1.71875e-05, 'epoch': 6.7}\n",
      "{'loss': 0.4614, 'learning_rate': 1.7083333333333333e-05, 'epoch': 6.72}\n",
      "{'loss': 0.4754, 'learning_rate': 1.6979166666666668e-05, 'epoch': 6.74}\n",
      "{'loss': 0.4586, 'learning_rate': 1.6875000000000004e-05, 'epoch': 6.76}\n",
      "{'loss': 0.4887, 'learning_rate': 1.6770833333333332e-05, 'epoch': 6.78}\n",
      "{'loss': 0.448, 'learning_rate': 1.6666666666666667e-05, 'epoch': 6.8}\n",
      "{'loss': 0.4901, 'learning_rate': 1.65625e-05, 'epoch': 6.82}\n",
      "{'loss': 0.4798, 'learning_rate': 1.6458333333333335e-05, 'epoch': 6.84}\n",
      "{'loss': 0.49, 'learning_rate': 1.6354166666666667e-05, 'epoch': 6.86}\n",
      "{'loss': 0.4777, 'learning_rate': 1.6250000000000002e-05, 'epoch': 6.88}\n",
      "{'loss': 0.464, 'learning_rate': 1.6145833333333334e-05, 'epoch': 6.9}\n",
      "{'loss': 0.5129, 'learning_rate': 1.604166666666667e-05, 'epoch': 6.92}\n",
      "{'loss': 0.4763, 'learning_rate': 1.59375e-05, 'epoch': 6.94}\n",
      "{'loss': 0.5, 'learning_rate': 1.5833333333333333e-05, 'epoch': 6.96}\n",
      "{'loss': 0.4479, 'learning_rate': 1.572916666666667e-05, 'epoch': 6.98}\n",
      "{'loss': 0.4935, 'learning_rate': 1.5625e-05, 'epoch': 7.0}\n",
      "{'loss': 0.4469, 'learning_rate': 1.5520833333333336e-05, 'epoch': 7.02}\n",
      "{'loss': 0.4835, 'learning_rate': 1.5416666666666668e-05, 'epoch': 7.04}\n",
      "{'loss': 0.461, 'learning_rate': 1.5312500000000003e-05, 'epoch': 7.06}\n",
      "{'loss': 0.437, 'learning_rate': 1.5208333333333333e-05, 'epoch': 7.08}\n",
      "{'loss': 0.4446, 'learning_rate': 1.5104166666666667e-05, 'epoch': 7.1}\n",
      "{'loss': 0.473, 'learning_rate': 1.5e-05, 'epoch': 7.12}\n",
      "{'loss': 0.4607, 'learning_rate': 1.4895833333333334e-05, 'epoch': 7.14}\n",
      "{'loss': 0.4275, 'learning_rate': 1.4791666666666668e-05, 'epoch': 7.16}\n",
      "{'loss': 0.466, 'learning_rate': 1.4687500000000001e-05, 'epoch': 7.18}\n",
      "{'loss': 0.466, 'learning_rate': 1.4583333333333335e-05, 'epoch': 7.2}\n",
      "{'loss': 0.4494, 'learning_rate': 1.4479166666666669e-05, 'epoch': 7.22}\n",
      "{'loss': 0.4695, 'learning_rate': 1.4374999999999999e-05, 'epoch': 7.24}\n",
      "{'loss': 0.4806, 'learning_rate': 1.4270833333333334e-05, 'epoch': 7.26}\n",
      "{'loss': 0.4737, 'learning_rate': 1.4166666666666668e-05, 'epoch': 7.28}\n",
      "{'loss': 0.4294, 'learning_rate': 1.4062500000000001e-05, 'epoch': 7.3}\n",
      "{'loss': 0.4666, 'learning_rate': 1.3958333333333335e-05, 'epoch': 7.32}\n",
      "{'loss': 0.48, 'learning_rate': 1.3854166666666669e-05, 'epoch': 7.34}\n",
      "{'loss': 0.4526, 'learning_rate': 1.3750000000000002e-05, 'epoch': 7.36}\n",
      "{'loss': 0.4676, 'learning_rate': 1.3645833333333332e-05, 'epoch': 7.38}\n",
      "{'loss': 0.4662, 'learning_rate': 1.3541666666666666e-05, 'epoch': 7.4}\n",
      "{'loss': 0.481, 'learning_rate': 1.34375e-05, 'epoch': 7.42}\n",
      "{'loss': 0.4613, 'learning_rate': 1.3333333333333333e-05, 'epoch': 7.44}\n",
      "{'loss': 0.4454, 'learning_rate': 1.3229166666666667e-05, 'epoch': 7.46}\n",
      "{'loss': 0.4928, 'learning_rate': 1.3125e-05, 'epoch': 7.48}\n",
      "{'loss': 0.4683, 'learning_rate': 1.3020833333333334e-05, 'epoch': 7.5}\n",
      "{'loss': 0.4813, 'learning_rate': 1.2916666666666668e-05, 'epoch': 7.52}\n",
      "{'loss': 0.4325, 'learning_rate': 1.28125e-05, 'epoch': 7.54}\n",
      "{'loss': 0.4524, 'learning_rate': 1.2708333333333333e-05, 'epoch': 7.56}\n",
      "{'loss': 0.4584, 'learning_rate': 1.2604166666666667e-05, 'epoch': 7.58}\n",
      "{'loss': 0.485, 'learning_rate': 1.25e-05, 'epoch': 7.6}\n",
      "{'loss': 0.4644, 'learning_rate': 1.2395833333333334e-05, 'epoch': 7.62}\n",
      "{'loss': 0.4661, 'learning_rate': 1.2291666666666666e-05, 'epoch': 7.64}\n",
      "{'loss': 0.4469, 'learning_rate': 1.21875e-05, 'epoch': 7.66}\n",
      "{'loss': 0.466, 'learning_rate': 1.2083333333333333e-05, 'epoch': 7.68}\n",
      "{'loss': 0.4729, 'learning_rate': 1.1979166666666667e-05, 'epoch': 7.7}\n",
      "{'loss': 0.4571, 'learning_rate': 1.1875e-05, 'epoch': 7.72}\n",
      "{'loss': 0.5011, 'learning_rate': 1.1770833333333334e-05, 'epoch': 7.74}\n",
      "{'loss': 0.4509, 'learning_rate': 1.1666666666666668e-05, 'epoch': 7.76}\n",
      "{'loss': 0.4578, 'learning_rate': 1.1562500000000002e-05, 'epoch': 7.78}\n",
      "{'loss': 0.4448, 'learning_rate': 1.1458333333333333e-05, 'epoch': 7.8}\n",
      "{'loss': 0.4262, 'learning_rate': 1.1354166666666667e-05, 'epoch': 7.82}\n",
      "{'loss': 0.4569, 'learning_rate': 1.125e-05, 'epoch': 7.84}\n",
      "{'loss': 0.4617, 'learning_rate': 1.1145833333333334e-05, 'epoch': 7.86}\n",
      "{'loss': 0.4485, 'learning_rate': 1.1041666666666666e-05, 'epoch': 7.88}\n",
      "{'loss': 0.4686, 'learning_rate': 1.09375e-05, 'epoch': 7.9}\n",
      "{'loss': 0.4628, 'learning_rate': 1.0833333333333334e-05, 'epoch': 7.92}\n",
      "{'loss': 0.4435, 'learning_rate': 1.0729166666666667e-05, 'epoch': 7.94}\n",
      "{'loss': 0.4293, 'learning_rate': 1.0625e-05, 'epoch': 7.96}\n",
      "{'loss': 0.454, 'learning_rate': 1.0520833333333334e-05, 'epoch': 7.98}\n",
      "{'loss': 0.46, 'learning_rate': 1.0416666666666668e-05, 'epoch': 8.0}\n",
      "{'loss': 0.4519, 'learning_rate': 1.03125e-05, 'epoch': 8.02}\n",
      "{'loss': 0.4373, 'learning_rate': 1.0208333333333334e-05, 'epoch': 8.04}\n",
      "{'loss': 0.4766, 'learning_rate': 1.0104166666666667e-05, 'epoch': 8.06}\n",
      "{'loss': 0.4624, 'learning_rate': 1e-05, 'epoch': 8.08}\n",
      "{'loss': 0.4303, 'learning_rate': 9.895833333333333e-06, 'epoch': 8.1}\n",
      "{'loss': 0.4296, 'learning_rate': 9.791666666666666e-06, 'epoch': 8.12}\n",
      "{'loss': 0.4375, 'learning_rate': 9.6875e-06, 'epoch': 8.14}\n",
      "{'loss': 0.4401, 'learning_rate': 9.583333333333334e-06, 'epoch': 8.16}\n",
      "{'loss': 0.44, 'learning_rate': 9.479166666666667e-06, 'epoch': 8.18}\n",
      "{'loss': 0.4223, 'learning_rate': 9.375000000000001e-06, 'epoch': 8.2}\n",
      "{'loss': 0.4413, 'learning_rate': 9.270833333333334e-06, 'epoch': 8.22}\n",
      "{'loss': 0.4374, 'learning_rate': 9.166666666666666e-06, 'epoch': 8.24}\n",
      "{'loss': 0.4467, 'learning_rate': 9.0625e-06, 'epoch': 8.26}\n",
      "{'loss': 0.4325, 'learning_rate': 8.958333333333334e-06, 'epoch': 8.28}\n",
      "{'loss': 0.4812, 'learning_rate': 8.854166666666667e-06, 'epoch': 8.3}\n",
      "{'loss': 0.4536, 'learning_rate': 8.75e-06, 'epoch': 8.32}\n",
      "{'loss': 0.4771, 'learning_rate': 8.645833333333333e-06, 'epoch': 8.34}\n",
      "{'loss': 0.426, 'learning_rate': 8.541666666666666e-06, 'epoch': 8.36}\n",
      "{'loss': 0.449, 'learning_rate': 8.437500000000002e-06, 'epoch': 8.38}\n",
      "{'loss': 0.4358, 'learning_rate': 8.333333333333334e-06, 'epoch': 8.4}\n",
      "{'loss': 0.4818, 'learning_rate': 8.229166666666667e-06, 'epoch': 8.42}\n",
      "{'loss': 0.4555, 'learning_rate': 8.125000000000001e-06, 'epoch': 8.44}\n",
      "{'loss': 0.4465, 'learning_rate': 8.020833333333335e-06, 'epoch': 8.46}\n",
      "{'loss': 0.4689, 'learning_rate': 7.916666666666667e-06, 'epoch': 8.48}\n",
      "{'loss': 0.4711, 'learning_rate': 7.8125e-06, 'epoch': 8.5}\n",
      "{'loss': 0.4635, 'learning_rate': 7.708333333333334e-06, 'epoch': 8.52}\n",
      "{'loss': 0.4695, 'learning_rate': 7.6041666666666666e-06, 'epoch': 8.54}\n",
      "{'loss': 0.4322, 'learning_rate': 7.5e-06, 'epoch': 8.56}\n",
      "{'loss': 0.4397, 'learning_rate': 7.395833333333334e-06, 'epoch': 8.58}\n",
      "{'loss': 0.4485, 'learning_rate': 7.2916666666666674e-06, 'epoch': 8.6}\n",
      "{'loss': 0.4403, 'learning_rate': 7.187499999999999e-06, 'epoch': 8.62}\n",
      "{'loss': 0.4326, 'learning_rate': 7.083333333333334e-06, 'epoch': 8.64}\n",
      "{'loss': 0.4508, 'learning_rate': 6.9791666666666675e-06, 'epoch': 8.66}\n",
      "{'loss': 0.4191, 'learning_rate': 6.875000000000001e-06, 'epoch': 8.68}\n",
      "{'loss': 0.4224, 'learning_rate': 6.770833333333333e-06, 'epoch': 8.7}\n",
      "{'loss': 0.4255, 'learning_rate': 6.666666666666667e-06, 'epoch': 8.72}\n",
      "{'loss': 0.4204, 'learning_rate': 6.5625e-06, 'epoch': 8.74}\n",
      "{'loss': 0.4357, 'learning_rate': 6.458333333333334e-06, 'epoch': 8.76}\n",
      "{'loss': 0.4586, 'learning_rate': 6.354166666666667e-06, 'epoch': 8.78}\n",
      "{'loss': 0.4752, 'learning_rate': 6.25e-06, 'epoch': 8.8}\n",
      "{'loss': 0.4052, 'learning_rate': 6.145833333333333e-06, 'epoch': 8.82}\n",
      "{'loss': 0.4446, 'learning_rate': 6.041666666666667e-06, 'epoch': 8.84}\n",
      "{'loss': 0.4736, 'learning_rate': 5.9375e-06, 'epoch': 8.86}\n",
      "{'loss': 0.4221, 'learning_rate': 5.833333333333334e-06, 'epoch': 8.88}\n",
      "{'loss': 0.4743, 'learning_rate': 5.729166666666667e-06, 'epoch': 8.9}\n",
      "{'loss': 0.4482, 'learning_rate': 5.625e-06, 'epoch': 8.92}\n",
      "{'loss': 0.4467, 'learning_rate': 5.520833333333333e-06, 'epoch': 8.94}\n",
      "{'loss': 0.4186, 'learning_rate': 5.416666666666667e-06, 'epoch': 8.96}\n",
      "{'loss': 0.45, 'learning_rate': 5.3125e-06, 'epoch': 8.98}\n",
      "{'loss': 0.4594, 'learning_rate': 5.208333333333334e-06, 'epoch': 9.0}\n",
      "{'loss': 0.4175, 'learning_rate': 5.104166666666667e-06, 'epoch': 9.02}\n",
      "{'loss': 0.4278, 'learning_rate': 5e-06, 'epoch': 9.04}\n",
      "{'loss': 0.4345, 'learning_rate': 4.895833333333333e-06, 'epoch': 9.06}\n",
      "{'loss': 0.4389, 'learning_rate': 4.791666666666667e-06, 'epoch': 9.08}\n",
      "{'loss': 0.4482, 'learning_rate': 4.6875000000000004e-06, 'epoch': 9.1}\n",
      "{'loss': 0.4289, 'learning_rate': 4.583333333333333e-06, 'epoch': 9.12}\n",
      "{'loss': 0.4207, 'learning_rate': 4.479166666666667e-06, 'epoch': 9.14}\n",
      "{'loss': 0.4483, 'learning_rate': 4.375e-06, 'epoch': 9.16}\n",
      "{'loss': 0.4376, 'learning_rate': 4.270833333333333e-06, 'epoch': 9.18}\n",
      "{'loss': 0.4252, 'learning_rate': 4.166666666666667e-06, 'epoch': 9.2}\n",
      "{'loss': 0.4387, 'learning_rate': 4.0625000000000005e-06, 'epoch': 9.22}\n",
      "{'loss': 0.4337, 'learning_rate': 3.958333333333333e-06, 'epoch': 9.24}\n",
      "{'loss': 0.4591, 'learning_rate': 3.854166666666667e-06, 'epoch': 9.26}\n",
      "{'loss': 0.4562, 'learning_rate': 3.75e-06, 'epoch': 9.28}\n",
      "{'loss': 0.4092, 'learning_rate': 3.6458333333333337e-06, 'epoch': 9.3}\n",
      "{'loss': 0.4383, 'learning_rate': 3.541666666666667e-06, 'epoch': 9.32}\n",
      "{'loss': 0.4585, 'learning_rate': 3.4375000000000005e-06, 'epoch': 9.34}\n",
      "{'loss': 0.4495, 'learning_rate': 3.3333333333333333e-06, 'epoch': 9.36}\n",
      "{'loss': 0.4293, 'learning_rate': 3.229166666666667e-06, 'epoch': 9.38}\n",
      "{'loss': 0.4322, 'learning_rate': 3.125e-06, 'epoch': 9.4}\n",
      "{'loss': 0.4482, 'learning_rate': 3.0208333333333334e-06, 'epoch': 9.42}\n",
      "{'loss': 0.4218, 'learning_rate': 2.916666666666667e-06, 'epoch': 9.44}\n",
      "{'loss': 0.4379, 'learning_rate': 2.8125e-06, 'epoch': 9.46}\n",
      "{'loss': 0.4072, 'learning_rate': 2.7083333333333334e-06, 'epoch': 9.48}\n",
      "{'loss': 0.4559, 'learning_rate': 2.604166666666667e-06, 'epoch': 9.5}\n",
      "{'loss': 0.459, 'learning_rate': 2.5e-06, 'epoch': 9.52}\n",
      "{'loss': 0.4167, 'learning_rate': 2.3958333333333334e-06, 'epoch': 9.54}\n",
      "{'loss': 0.4611, 'learning_rate': 2.2916666666666666e-06, 'epoch': 9.56}\n",
      "{'loss': 0.4827, 'learning_rate': 2.1875e-06, 'epoch': 9.58}\n",
      "{'loss': 0.4544, 'learning_rate': 2.0833333333333334e-06, 'epoch': 9.6}\n",
      "{'loss': 0.4335, 'learning_rate': 1.9791666666666666e-06, 'epoch': 9.62}\n",
      "{'loss': 0.4282, 'learning_rate': 1.875e-06, 'epoch': 9.64}\n",
      "{'loss': 0.4236, 'learning_rate': 1.7708333333333335e-06, 'epoch': 9.66}\n",
      "{'loss': 0.4522, 'learning_rate': 1.6666666666666667e-06, 'epoch': 9.68}\n",
      "{'loss': 0.4358, 'learning_rate': 1.5625e-06, 'epoch': 9.7}\n",
      "{'loss': 0.4372, 'learning_rate': 1.4583333333333335e-06, 'epoch': 9.72}\n",
      "{'loss': 0.4274, 'learning_rate': 1.3541666666666667e-06, 'epoch': 9.74}\n",
      "{'loss': 0.4032, 'learning_rate': 1.25e-06, 'epoch': 9.76}\n",
      "{'loss': 0.4234, 'learning_rate': 1.1458333333333333e-06, 'epoch': 9.78}\n",
      "{'loss': 0.4185, 'learning_rate': 1.0416666666666667e-06, 'epoch': 9.8}\n",
      "{'loss': 0.4292, 'learning_rate': 9.375e-07, 'epoch': 9.82}\n",
      "{'loss': 0.399, 'learning_rate': 8.333333333333333e-07, 'epoch': 9.84}\n",
      "{'loss': 0.4282, 'learning_rate': 7.291666666666667e-07, 'epoch': 9.86}\n",
      "{'loss': 0.4342, 'learning_rate': 6.25e-07, 'epoch': 9.88}\n",
      "{'loss': 0.4201, 'learning_rate': 5.208333333333334e-07, 'epoch': 9.9}\n",
      "{'loss': 0.4125, 'learning_rate': 4.1666666666666667e-07, 'epoch': 9.92}\n",
      "{'loss': 0.4098, 'learning_rate': 3.125e-07, 'epoch': 9.94}\n",
      "{'loss': 0.4429, 'learning_rate': 2.0833333333333333e-07, 'epoch': 9.96}\n",
      "{'loss': 0.4658, 'learning_rate': 1.0416666666666667e-07, 'epoch': 9.98}\n",
      "{'loss': 0.4175, 'learning_rate': 0.0, 'epoch': 10.0}\n",
      "{'train_runtime': 3083.7232, 'train_samples_per_second': 32.428, 'train_steps_per_second': 1.621, 'train_loss': 0.9121829899311066, 'epoch': 10.0}\n",
      "\n",
      "End of Training...\n",
      "\n",
      "Testing the pretrained Model:\n",
      "Rouge Score:  {'Rouge-L-P': 0.005797387579740519, 'Rouge-L-R': 0.03800476190476191, 'Rouge-L-F': 0.03800476190476191, 'Rouge-1-P': 0.005797387579740519, 'Rouge-1-R': 0.03800476190476191, 'Rouge-1-F': 0.03800476190476191}\n",
      "\n",
      "Test Text\n",
      ":\n",
      "[\"The world's largest cruise ship, which is 1,188 feet long and weighs 228,000 tonnes, has been delivered to cruise line Royal Caribbean ahead of its maiden voyage. The 'Symphony of the Seas' ship features a zipline and an ice rink. It has over 2,700 guest rooms, including two-storey family suites that have a slide connecting the second and first floors.\", 'Debt-ridden Air India has received a loan worth â\\x82¹1,500 crore from Bank of India to meet urgent working capital needs, according to reports. This comes less than a month after Air India floated a tender in this regard. Prior to this, the airline had reportedly borrowed around â\\x82¹3,250 crore as short-tenure loans from IndusInd Bank and Punjab National Bank.', 'China-based scientists have discovered a method to convert tree leaves into a porous carbon material that can be used to make electronics. Dried phoenix tree leaves, when grounded and heated to 220 ÂºC, produced a powder of carbon microspheres. On further heating with chemical treatment, the powder developed charge-holding capacity three times that of graphene supercapacitors, researchers said.', 'Investor Michael Novogratz halted his plan to launch a $500 million hedge fund in cryptocurrencies and predicted that Bitcoin could drop to as low as $8,000 before rebounding. Novogratz said, \"We didn\\'t like market conditions and we wanted to re-evaluate what we\\'re doing.\" He further added, \"I didn\\'t want to have to deal with the schizophrenic emotional side of it.\"', 'Silicon Valley-based juicer making startup Juicero is refunding all its customers after they discovered the chopped fruit packs the startup provides with the juicers can be hand-squeezed to obtain the juice. Juicero had said its â\\x82¹26,000 juicer applies four tons of force to the packs to squeeze the juice. However, its users managed to squeeze the pack without the juicer.', 'A parliamentary panel has reportedly summoned RBI Governor Urjit Patel to appear before it on May 17 to answer queries on the recently-unearthed banking scams. Patel had earlier said that the RBI doesn\\'t have adequate powers to deal with public sector banks. \"We would like to know what kind of powers the RBI Governor needs,\" a panel official said.', 'Markets regulator SEBI on Friday allowed stock exchanges to extend trading in equity derivatives by over 8.5 hours to bring the timings in line with commodity markets. It has allowed exchanges to set trading hours in equity derivatives between 9:00 am and 11:55 pm, effective October 1, 2018. As of now, trading is allowed from 9:15 am till 3:30 pm.', \"The trailer of actress Manisha Koirala's comeback film 'Dear Maya' has been released. The film will revolve around the story of a lonely middle-aged spinster, portrayed by Manisha. Written and directed by Sunaina Bhatnagar, the film also stars Pakistani VJ Madiha Imam and is scheduled to release on June 2.\", 'Speaking about being trolled for her dialogue, \"My business is my business, none of your business\" in the film \\'Race 3\\', actress Daisy Shah said that the memes made her more popular. \"[E]ither you take it positively or you take it negatively, and I take it positively,\" the actress added. She further said she was \"very happy\" with the outcome.', 'A Bangladesh court on Monday sentenced former Prime Minister Khaleda Zia to seven years in jail on corruption charges. Zia was found guilty of corruption charges linked to the misappropriation of â\\x82¹2.7 crore set aside for the Zia Charitable Trust Fund. In February, another court sentenced her to five years in jail for embezzling â\\x82¹1.8 crore meant for an orphanage.']\n",
      "\n",
      "Test Summary:\n",
      "\n",
      "[\"World's largest cruise ship with zipline, ice rink delivered\", 'Air India gets â\\x82¹1,500-crore loan from Bank of India', 'Scientists convert dried tree leaves into electronics', 'Investor halts plan for $500 mn cryptocurrency hedge fund', 'Juicer startup refunds users on hand-squeezing fruit packs', 'Parliamentary panel summons RBI Governor over bank scams', \"Exchanges allowed to extend equity derivatives' trading time\", \"Trailer of Manisha Koirala's comeback film 'Dear Maya' out\", \"I've become more popular since 'Race 3' memes: Daisy Shah\", \"Former B'desh PM Khaleda Zia jailed for 7 years in corruption case\"]\n",
      "\n",
      "Predicted Summary - P:\n",
      "\n",
      "[\"The 'Symphony of the Seas' ship features a zipline and an ice rink.\", 'Debt-ridden Air India has received a loan worth 11,500 crore from Bank of India to meet urgent working capital needs, according to reports.', 'Dried phoenix tree leaves, when grounded and heated to 220 oC, produced a powder of carbon microspheres.', 'Novogratz said, \"We didn\\'t like market conditions and we wanted to re-evaluate what we\\'re doing.\" He further added, \"I didn\\'t want to have to deal with the schizophrenic emotional side of it.\"', 'Juicero had said its 126,000 juicer applies four tons of force to the packs to squeeze the juice.', '\"We would like to know what kind of powers the RBI Governor needs,\" a panel official said.', 'It has allowed exchanges to set trading hours in equity derivatives between 9:00 am and 11:55 pm, effective October 1, 2018.', 'The film will revolve around the story of a lonely middle-aged spinster, portrayed by Manisha.', 'Speaking about being trolled for her dialogue, \"My business is my business, none of your business\" in the film \\'Race 3\\', actress Daisy Shah said that the memes made her more popular.', 'A Bangladesh court on Monday sentenced former Prime Minister Khaleda Zia to seven years in jail on corruption charges.']\n",
      "\n",
      "Predicted Summary - F:\n",
      "\n",
      "[\"World's largest cruise ship delivered to cruise line\", 'Air India gets 11500 crore loan from Bank of India', 'Edible leaves can be used to make supercapacitors: Study', 'Bitcoin could drop to as low as $8,000: Investor', 'Startup refunds users for hand-scooping juice packs', 'RBI Governor Urjit Patel to appear before parliamentary panel on banking scam', 'SEBI allows stock exchanges to extend trading hours by 8.5 hrs', \"Trailer of Manisha Koirala's comeback film 'Dear Maya' released\", 'Memes made me popular: Daisy on being trolled', 'Former Bangladesh PM sentenced to 7 years in jail on corruption charges']\n",
      "\n",
      "End of job\n",
      "\n"
     ]
    }
   ],
   "source": [
    "with open('train.log', 'r') as f:\n",
    "    text = f.read()\n",
    "    \n",
    "print(text)"
   ]
  },
  {
   "cell_type": "code",
   "execution_count": null,
   "metadata": {},
   "outputs": [],
   "source": []
  },
  {
   "cell_type": "code",
   "execution_count": null,
   "metadata": {},
   "outputs": [],
   "source": []
  },
  {
   "cell_type": "code",
   "execution_count": null,
   "metadata": {},
   "outputs": [],
   "source": []
  },
  {
   "cell_type": "code",
   "execution_count": null,
   "metadata": {},
   "outputs": [],
   "source": []
  },
  {
   "cell_type": "markdown",
   "metadata": {},
   "source": [
    "### Loading finetuned model from checkpoint"
   ]
  },
  {
   "cell_type": "code",
   "execution_count": 147,
   "metadata": {},
   "outputs": [
    {
     "name": "stderr",
     "output_type": "stream",
     "text": [
      "loading configuration file ./results/checkpoint-5000/config.json\n",
      "Model config PegasusConfig {\n",
      "  \"_name_or_path\": \"google/pegasus-large\",\n",
      "  \"activation_dropout\": 0.1,\n",
      "  \"activation_function\": \"relu\",\n",
      "  \"add_bias_logits\": false,\n",
      "  \"add_final_layer_norm\": true,\n",
      "  \"architectures\": [\n",
      "    \"PegasusForConditionalGeneration\"\n",
      "  ],\n",
      "  \"attention_dropout\": 0.1,\n",
      "  \"bos_token_id\": 0,\n",
      "  \"classif_dropout\": 0.0,\n",
      "  \"classifier_dropout\": 0.0,\n",
      "  \"d_model\": 1024,\n",
      "  \"decoder_attention_heads\": 16,\n",
      "  \"decoder_ffn_dim\": 4096,\n",
      "  \"decoder_layerdrop\": 0.0,\n",
      "  \"decoder_layers\": 16,\n",
      "  \"decoder_start_token_id\": 0,\n",
      "  \"dropout\": 0.1,\n",
      "  \"encoder_attention_heads\": 16,\n",
      "  \"encoder_ffn_dim\": 4096,\n",
      "  \"encoder_layerdrop\": 0.0,\n",
      "  \"encoder_layers\": 16,\n",
      "  \"eos_token_id\": 1,\n",
      "  \"extra_pos_embeddings\": 1,\n",
      "  \"force_bos_token_to_be_generated\": false,\n",
      "  \"forced_eos_token_id\": 1,\n",
      "  \"gradient_checkpointing\": false,\n",
      "  \"id2label\": {\n",
      "    \"0\": \"LABEL_0\",\n",
      "    \"1\": \"LABEL_1\",\n",
      "    \"2\": \"LABEL_2\"\n",
      "  },\n",
      "  \"init_std\": 0.02,\n",
      "  \"is_encoder_decoder\": true,\n",
      "  \"label2id\": {\n",
      "    \"LABEL_0\": 0,\n",
      "    \"LABEL_1\": 1,\n",
      "    \"LABEL_2\": 2\n",
      "  },\n",
      "  \"length_penalty\": 0.8,\n",
      "  \"max_length\": 256,\n",
      "  \"max_position_embeddings\": 1024,\n",
      "  \"model_type\": \"pegasus\",\n",
      "  \"normalize_before\": true,\n",
      "  \"normalize_embedding\": false,\n",
      "  \"num_beams\": 8,\n",
      "  \"num_hidden_layers\": 16,\n",
      "  \"pad_token_id\": 0,\n",
      "  \"scale_embedding\": true,\n",
      "  \"static_position_embeddings\": true,\n",
      "  \"task_specific_params\": {\n",
      "    \"summarization_aeslc\": {\n",
      "      \"length_penalty\": 0.6,\n",
      "      \"max_length\": 32,\n",
      "      \"max_position_embeddings\": 512\n",
      "    },\n",
      "    \"summarization_arxiv\": {\n",
      "      \"length_penalty\": 0.8,\n",
      "      \"max_length\": 256,\n",
      "      \"max_position_embeddings\": 1024\n",
      "    },\n",
      "    \"summarization_big_patent\": {\n",
      "      \"length_penalty\": 0.7,\n",
      "      \"max_length\": 256,\n",
      "      \"max_position_embeddings\": 1024\n",
      "    },\n",
      "    \"summarization_billsum\": {\n",
      "      \"length_penalty\": 0.6,\n",
      "      \"max_length\": 256,\n",
      "      \"max_position_embeddings\": 1024\n",
      "    },\n",
      "    \"summarization_cnn_dailymail\": {\n",
      "      \"length_penalty\": 0.8,\n",
      "      \"max_length\": 128,\n",
      "      \"max_position_embeddings\": 1024\n",
      "    },\n",
      "    \"summarization_gigaword\": {\n",
      "      \"length_penalty\": 0.6,\n",
      "      \"max_length\": 32,\n",
      "      \"max_position_embeddings\": 128\n",
      "    },\n",
      "    \"summarization_large\": {\n",
      "      \"length_penalty\": 0.8,\n",
      "      \"max_length\": 256,\n",
      "      \"max_position_embeddings\": 1024\n",
      "    },\n",
      "    \"summarization_multi_news\": {\n",
      "      \"length_penalty\": 0.8,\n",
      "      \"max_length\": 256,\n",
      "      \"max_position_embeddings\": 1024\n",
      "    },\n",
      "    \"summarization_newsroom\": {\n",
      "      \"length_penalty\": 0.8,\n",
      "      \"max_length\": 128,\n",
      "      \"max_position_embeddings\": 512\n",
      "    },\n",
      "    \"summarization_pubmed\": {\n",
      "      \"length_penalty\": 0.8,\n",
      "      \"max_length\": 256,\n",
      "      \"max_position_embeddings\": 1024\n",
      "    },\n",
      "    \"summarization_reddit_tifu\": {\n",
      "      \"length_penalty\": 0.6,\n",
      "      \"max_length\": 128,\n",
      "      \"max_position_embeddings\": 512\n",
      "    },\n",
      "    \"summarization_wikihow\": {\n",
      "      \"length_penalty\": 0.6,\n",
      "      \"max_length\": 256,\n",
      "      \"max_position_embeddings\": 512\n",
      "    },\n",
      "    \"summarization_xsum\": {\n",
      "      \"length_penalty\": 0.8,\n",
      "      \"max_length\": 64,\n",
      "      \"max_position_embeddings\": 512\n",
      "    }\n",
      "  },\n",
      "  \"torch_dtype\": \"float32\",\n",
      "  \"transformers_version\": \"4.16.2\",\n",
      "  \"use_cache\": true,\n",
      "  \"vocab_size\": 96103\n",
      "}\n",
      "\n",
      "loading weights file ./results/checkpoint-5000/pytorch_model.bin\n",
      "All model checkpoint weights were used when initializing PegasusForConditionalGeneration.\n",
      "\n",
      "All the weights of PegasusForConditionalGeneration were initialized from the model checkpoint at ./results/checkpoint-5000/.\n",
      "If your task is similar to the task the model of the checkpoint was trained on, you can already use PegasusForConditionalGeneration for predictions without further training.\n"
     ]
    }
   ],
   "source": [
    "model_path = \"./results/checkpoint-5000/\"\n",
    "model_finetune = PegasusForConditionalGeneration.from_pretrained(model_path, local_files_only=True).to(torch_device)"
   ]
  },
  {
   "cell_type": "code",
   "execution_count": 149,
   "metadata": {},
   "outputs": [],
   "source": [
    "test_text = \"\"\"\n",
    "Elon Musk said on Tuesday that he would “reverse the permanent ban” of former President Donald J. Trump on Twitter and let him back on the social network, in one of the first specific comments by Mr. Musk, the world’s richest man, of how he would change the social media service.\n",
    "\n",
    "Mr. Musk, who struck a deal last month to buy Twitter for $44 billion, said at a Financial Times conference that the company’s decision to bar Mr. Trump last year for tweets about the riots at the U.S. Capitol was “a mistake because it alienated a large part of the country and did not ultimately result in Donald Trump not having a voice.” He added that it was “morally wrong and flat-out stupid” and that “permanent bans just fundamentally undermine trust in Twitter.”\n",
    "\n",
    "Mr. Musk’s remarks were a preview of the kinds of sweeping changes he might make at Twitter, which he is expected to take ownership of in the next six months. The billionaire, who also leads the electric carmaker Tesla and the rocket company SpaceX, has called himself a “free speech absolutist” and has said he is unhappy with how Twitter decides what can and cannot be posted online.\n",
    "\n",
    "But up until Tuesday, Mr. Musk, 50, had spoken mostly in general terms and had not singled out Twitter accounts that might be affected by his takeover. He had called free speech “the bedrock of a functioning democracy” and had spoken of his desire to give people more control over their own social media feeds. By specifying that Mr. Trump could return to the platform, Mr. Musk uncorked a political firestorm.\n",
    "\n",
    "Mr. Trump wielded Twitter for many years as both a megaphone and a cudgel, rallying his 88 million followers on issues such as immigration while also going after opponents. That avenue was cut off in January 2021 when Twitter, along with Facebook and other platforms, barred Mr. Trump from posting in the wake of the attack on the U.S. Capitol building. Twitter said at the time that Mr. Trump had violated policies and risked inciting violence among his supporters. Facebook barred Mr. Trump for similar reasons.\n",
    "\n",
    "Mr. Trump, who has since begun a social media site called Truth Social, did not respond to a request for comment. Last month, Mr. Trump said that even with Mr. Musk buying Twitter, he did not plan to return to the platform and was “going to stay on Truth.”\n",
    "\n",
    "Twitter declined to comment.\n",
    "\n",
    "Derrick Johnson, the president of the N.A.A.C.P., said that free speech online needed to come with guardrails.\n",
    "\n",
    "“Mr. Musk: Free speech is wonderful, hate speech is unacceptable,” he said. “Do not allow 45 to return to the platform. Do not allow Twitter to become a petri dish for hate speech or falsehoods that subvert our democracy.”\n",
    "\n",
    "But Jack Dorsey, a founder and board member of Twitter, tweeted that permanent suspensions of individual users “are a failure” of the company and largely “don’t work.” Mr. Dorsey, who was chief executive of Twitter when Mr. Trump was barred, had said last year that booting the president was the right decision for the company, but backtracked on Tuesday by calling it “a business decision” and saying “it shouldn’t have been.”\n",
    "Editors’ Picks\n",
    "The Magazine Business, From the Coolest Place to the Coldest One\n",
    "Farewell to the iPod\n",
    "Francis Fukuyama Predicted the End of History. It’s Back (Again).\n",
    "\n",
    "Even with Mr. Musk’s comments, Mr. Trump’s potential return to Twitter remains far from assured. Mr. Musk is mercurial and has a history of saying things he does not follow through on. In 2018, he famously declared that he planned to take Tesla private and had the funding to do so, when he did not. Even his most devoted followers sometimes wonder whether his obscurantist tweets are serious or are made in jest.\n",
    "\n",
    "Investors have also questioned whether Mr. Musk’s deal for Twitter will be completed. The company’s shares closed Tuesday at $47.26, well below the $54.20 that Mr. Musk agreed to pay for them. Mr. Musk is also still securing financing for his takeover. While venture-capital firms and some big banks have lined up to invest, the billionaire is on the hook to provide as much as $21 billion of his own cash. He has not detailed where he will obtain that money.\n",
    "\n",
    "Mr. Musk referred to the possibility of the deal not closing on Tuesday and of nothing happening with Mr. Trump’s Twitter account. “Obviously, I don’t own Twitter yet,” he said at the Financial Times conference. “So this is not a thing that will definitely happen because what if I don’t own Twitter.”\n",
    "\n",
    "Mr. Trump long bedeviled social media companies because of how he pushed the line on speech, sometimes spreading lies and bullying people. But the companies’ moves to bar him drew accusations, especially from conservatives, that they were engaging in censorship and were biased against Republican voices.\n",
    "\n",
    "Mr. Musk seemed to echo some of those conservative complaints on Tuesday, accusing Twitter of “a strong left bias, because it’s based in San Francisco” and saying “victory would be that the most far-right 10 percent and the most far-left 10 percent are equally upset.”\n",
    "\n",
    "Some of the companies have since shied from appearing as the final word on who gets to say what online. Facebook referred Mr. Trump’s case to its Oversight Board, a company-appointed panel of academics, journalists and former members of government. The board ruled that Facebook was right to bar Mr. Trump, but it said the company had not thoroughly explained its decision and should revisit an indefinite suspension.\n",
    "\n",
    "In June, Facebook said Mr. Trump’s ban would last at least two years, keeping the former president off the site through the 2022 midterm elections.\n",
    "\n",
    "When Mr. Musk began buying up shares of Twitter this year, he started voicing more of his thoughts about the service and free speech, including in exchanges with Mr. Dorsey. In March, Mr. Musk asked his followers if Twitter was failing to adhere to free speech principles.\n",
    "How Elon Musk Bought Twitter\n",
    "Card 1 of 6\n",
    "\n",
    "A blockbuster deal. Elon Musk, the world’s wealthiest man, capped what seemed an improbable attempt by the famously mercurial billionaire to buy Twitter for roughly $44 billion. Here’s how the deal unfolded:\n",
    "\n",
    "The initial offer. Mr. Musk made an unsolicited bid worth more than $40 billion for the influential social network, saying that he wanted to make Twitter a private company and that he wanted people to be able to speak more freely on the service.\n",
    "\n",
    "The response. Twitter’s board countered Mr. Musk’s offer with a defense mechanism known as a “poison pill.” This well-worn corporate tactic makes a company less palatable to a potential acquirer by making it more expensive for them to buy shares above a certain threshold.\n",
    "\n",
    "Securing financing. Though his original offer had scant details and was received skeptically by Wall Street, Mr. Musk has been moving swiftly to secure commitments worth $46.5 billion to finance his bid, putting pressure on Twitter’s board to take his advances seriously.\n",
    "\n",
    "Striking a deal. With the financing in place, Twitter’s board met with Mr. Musk to discuss his offer. The two sides soon reached a deal, with the social media company agreeing to sell itself for $54.20 a share.\n",
    "\n",
    "What’s next? Shareholders will vote on the offer, which will also be reviewed by regulators. The deal is expected to take three to six months to close. In the meantime, scrutiny is likely to be intense and several questions remain about Mr. Musk’s plans for the company.\n",
    "\n",
    "“Free speech is essential to a functioning democracy. Do you believe Twitter rigorously adheres to this principle?” he asked.\n",
    "\n",
    "At another point, Mr. Musk wondered, “Is a new platform needed?”\n",
    "\n",
    "After Mr. Musk inked the deal to buy Twitter last month, he reiterated his free speech stance and said he would take the company private to improve the service. He added that he hoped to increase trust by making Twitter’s technology more transparent, defeating the bots that spam people on the platform and “authenticating all humans.” He also said he hoped his worst critics would remain on Twitter, because “that is what free speech means.”\n",
    "\n",
    "On Tuesday, he became more specific. “Permanent bans should be extremely rare,” Mr. Musk said, adding that they should be reserved “for accounts that are bots or spam” and “where there’s just no legitimacy to the account at all.”\n",
    "\n",
    "But he also said that “doesn’t mean that somebody gets to say whatever they want to say.” Mr. Musk said he was in favor of temporary suspensions of accounts “if they say something that is illegal or otherwise just, you know, destructive to the world.” He also raised the idea that a particular tweet could be “made invisible or have very limited traction.”\n",
    "\n",
    "Apart from Mr. Trump, others who have been indefinitely barred from Twitter for violating its policies include Representative Marjorie Taylor Greene, Republican of Georgia, the far-right figure Milo Yiannopoulos, and celebrities like Tila Tequila. Twitter also labels tweets that are factually inaccurate or that might incite violence.\n",
    "\n",
    "Inside Twitter on Tuesday, some employees worried that Mr. Musk’s changes would unwind years of work on the company’s policies and unravel millions of dollars of investment in content moderation to stem abuse on the platform, four current and former employees said. Some said they hoped Mr. Musk would lose interest in the site, while others have begun reaching out to recruiters and friends at other tech companies for new opportunities.\n",
    "\n",
    "Still others were excited at the prospect of Mr. Musk in charge, the current and former employees said. Mr. Musk has pitched investors on quintupling Twitter’s revenue and on the service topping more than 900 million users by 2028, up from 217 million or so today.\n",
    "\"\"\""
   ]
  },
  {
   "cell_type": "code",
   "execution_count": null,
   "metadata": {},
   "outputs": [],
   "source": []
  },
  {
   "cell_type": "code",
   "execution_count": 150,
   "metadata": {},
   "outputs": [
    {
     "name": "stdout",
     "output_type": "stream",
     "text": [
      "Ignored unknown kwarg option direction\n",
      "Input X tokenized. Generating Summary ...\n",
      "Summary Generated. Decoding Summary ...\n",
      "Summary Decoded.\n",
      "['Elon Musk said on Tuesday that he would “reverse the permanent ban” of former President Donald J. Trump on Twitter and let him back on the social network, in one of the first specific comments by Mr. Musk, who struck a deal last month to buy Twitter for $44 billion, said at a Financial Times conference that the company’s decision to bar Mr. The billionaire, who also leads the electric carmaker Tesla and the rocket company SpaceX, has called himself a “free speech absolutist” and has said he is unhappy with how Twitter decides what can and cannot be posted online.']\n",
      "CPU times: user 6min 8s, sys: 6min 46s, total: 12min 55s\n",
      "Wall time: 2min 21s\n"
     ]
    }
   ],
   "source": [
    "%%time\n",
    "text_summary = get_summary(tokenizer_large, model_large, test_text)\n",
    "print(text_summary)"
   ]
  },
  {
   "cell_type": "code",
   "execution_count": 151,
   "metadata": {},
   "outputs": [
    {
     "name": "stdout",
     "output_type": "stream",
     "text": [
      "Ignored unknown kwarg option direction\n",
      "Input X tokenized. Generating Summary ...\n",
      "Summary Generated. Decoding Summary ...\n",
      "Summary Decoded.\n",
      "['Elon Musk to let Trump back on Twitter']\n",
      "CPU times: user 49.1 s, sys: 53.5 s, total: 1min 42s\n",
      "Wall time: 21.7 s\n"
     ]
    }
   ],
   "source": [
    "%%time\n",
    "text_headline = get_summary(tokenizer_large, model_finetune, text_summary)\n",
    "print(text_headline)"
   ]
  },
  {
   "cell_type": "code",
   "execution_count": null,
   "metadata": {},
   "outputs": [],
   "source": []
  },
  {
   "cell_type": "code",
   "execution_count": null,
   "metadata": {},
   "outputs": [],
   "source": []
  },
  {
   "cell_type": "code",
   "execution_count": null,
   "metadata": {},
   "outputs": [],
   "source": []
  },
  {
   "cell_type": "code",
   "execution_count": null,
   "metadata": {},
   "outputs": [],
   "source": []
  },
  {
   "cell_type": "code",
   "execution_count": null,
   "metadata": {},
   "outputs": [],
   "source": []
  },
  {
   "cell_type": "code",
   "execution_count": null,
   "metadata": {},
   "outputs": [],
   "source": []
  }
 ],
 "metadata": {
  "accelerator": "TPU",
  "colab": {
   "authorship_tag": "ABX9TyOx+LFhBD37vffFG7idB6n/",
   "collapsed_sections": [],
   "name": "project.ipynb",
   "provenance": []
  },
  "kernelspec": {
   "display_name": "env",
   "language": "python",
   "name": "env"
  },
  "language_info": {
   "codemirror_mode": {
    "name": "ipython",
    "version": 3
   },
   "file_extension": ".py",
   "mimetype": "text/x-python",
   "name": "python",
   "nbconvert_exporter": "python",
   "pygments_lexer": "ipython3",
   "version": "3.9.12"
  }
 },
 "nbformat": 4,
 "nbformat_minor": 1
}
