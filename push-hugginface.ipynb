{
 "cells": [
  {
   "cell_type": "markdown",
   "metadata": {
    "id": "i3uVsBf1jacE"
   },
   "source": [
    "# AML Project - Abstractive Text Summarization\n",
    "\n",
    "Problem Statment: Given a news article, generate a summary of two-to-three sentences and a headline for the article.\n",
    "\n",
    "The summary should be abstractive rather than extractive. In abstractive summarization, new sentences are generated as part of the summary and the sentences in the summary might not be present in the news article."
   ]
  },
  {
   "cell_type": "markdown",
   "metadata": {
    "id": "quywxuE8jxy9"
   },
   "source": [
    "### Importing necessary packages"
   ]
  },
  {
   "cell_type": "code",
   "execution_count": 18,
   "metadata": {
    "colab": {
     "base_uri": "https://localhost:8080/",
     "height": 74,
     "output_embedded_package_id": "1TA7HShfr2cnAW-d--z5RbXOqzAKiywKT"
    },
    "executionInfo": {
     "elapsed": 4140,
     "status": "ok",
     "timestamp": 1652119490916,
     "user": {
      "displayName": "Kuber Shahi",
      "userId": "04157404054756166055"
     },
     "user_tz": -330
    },
    "id": "2ghsLfkLj0KB",
    "outputId": "240bede0-e65c-4a1f-e9b7-3da1a4b26fb5"
   },
   "outputs": [],
   "source": [
    "import numpy as np\n",
    "import pandas as pd\n",
    "\n",
    "# splittin dataset\n",
    "from sklearn.model_selection import train_test_split\n",
    "\n",
    "# evaluation metric\n",
    "from ignite.metrics import Rouge, RougeN, RougeL\n",
    "\n",
    "# visualisation\n",
    "# import plotly.express as px\n",
    "# import plotly.graph_objects as go\n",
    "# import plotly.offline as pyo\n",
    " \n",
    "# pyo.init_notebook_mode() "
   ]
  },
  {
   "cell_type": "markdown",
   "metadata": {
    "id": "CncrthEZ38un"
   },
   "source": [
    "### Importing the Indian News Summary Dataset"
   ]
  },
  {
   "cell_type": "code",
   "execution_count": 19,
   "metadata": {
    "colab": {
     "base_uri": "https://localhost:8080/",
     "height": 424
    },
    "executionInfo": {
     "elapsed": 1218,
     "status": "ok",
     "timestamp": 1652119503357,
     "user": {
      "displayName": "Kuber Shahi",
      "userId": "04157404054756166055"
     },
     "user_tz": -330
    },
    "id": "emf_JRKnkHqo",
    "outputId": "366131b1-5408-44c8-abf8-d4b4448b1cbe"
   },
   "outputs": [
    {
     "data": {
      "text/html": [
       "<div>\n",
       "<style scoped>\n",
       "    .dataframe tbody tr th:only-of-type {\n",
       "        vertical-align: middle;\n",
       "    }\n",
       "\n",
       "    .dataframe tbody tr th {\n",
       "        vertical-align: top;\n",
       "    }\n",
       "\n",
       "    .dataframe thead th {\n",
       "        text-align: right;\n",
       "    }\n",
       "</style>\n",
       "<table border=\"1\" class=\"dataframe\">\n",
       "  <thead>\n",
       "    <tr style=\"text-align: right;\">\n",
       "      <th></th>\n",
       "      <th>text</th>\n",
       "      <th>summary</th>\n",
       "    </tr>\n",
       "  </thead>\n",
       "  <tbody>\n",
       "    <tr>\n",
       "      <th>0</th>\n",
       "      <td>Saurav Kant, an alumnus of upGrad and IIIT-B's...</td>\n",
       "      <td>upGrad learner switches to career in ML &amp; Al w...</td>\n",
       "    </tr>\n",
       "    <tr>\n",
       "      <th>1</th>\n",
       "      <td>Kunal Shah's credit card bill payment platform...</td>\n",
       "      <td>Delhi techie wins free food from Swiggy for on...</td>\n",
       "    </tr>\n",
       "    <tr>\n",
       "      <th>2</th>\n",
       "      <td>New Zealand defeated India by 8 wickets in the...</td>\n",
       "      <td>New Zealand end Rohit Sharma-led India's 12-ma...</td>\n",
       "    </tr>\n",
       "    <tr>\n",
       "      <th>3</th>\n",
       "      <td>With Aegon Life iTerm Insurance plan, customer...</td>\n",
       "      <td>Aegon life iTerm insurance plan helps customer...</td>\n",
       "    </tr>\n",
       "    <tr>\n",
       "      <th>4</th>\n",
       "      <td>Speaking about the sexual harassment allegatio...</td>\n",
       "      <td>Have known Hirani for yrs, what if MeToo claim...</td>\n",
       "    </tr>\n",
       "    <tr>\n",
       "      <th>...</th>\n",
       "      <td>...</td>\n",
       "      <td>...</td>\n",
       "    </tr>\n",
       "    <tr>\n",
       "      <th>98396</th>\n",
       "      <td>A CRPF jawan was on Tuesday axed to death with...</td>\n",
       "      <td>CRPF jawan axed to death by Maoists in Chhatti...</td>\n",
       "    </tr>\n",
       "    <tr>\n",
       "      <th>98397</th>\n",
       "      <td>'Uff Yeh', the first song from the Sonakshi Si...</td>\n",
       "      <td>First song from Sonakshi Sinha's 'Noor' titled...</td>\n",
       "    </tr>\n",
       "    <tr>\n",
       "      <th>98398</th>\n",
       "      <td>According to reports, a new version of the 199...</td>\n",
       "      <td>'The Matrix' film to get a reboot: Reports</td>\n",
       "    </tr>\n",
       "    <tr>\n",
       "      <th>98399</th>\n",
       "      <td>A new music video shows rapper Snoop Dogg aimi...</td>\n",
       "      <td>Snoop Dogg aims gun at clown dressed as Trump ...</td>\n",
       "    </tr>\n",
       "    <tr>\n",
       "      <th>98400</th>\n",
       "      <td>Madhesi Morcha, an alliance of seven political...</td>\n",
       "      <td>Madhesi Morcha withdraws support to Nepalese g...</td>\n",
       "    </tr>\n",
       "  </tbody>\n",
       "</table>\n",
       "<p>98401 rows × 2 columns</p>\n",
       "</div>"
      ],
      "text/plain": [
       "                                                    text  \\\n",
       "0      Saurav Kant, an alumnus of upGrad and IIIT-B's...   \n",
       "1      Kunal Shah's credit card bill payment platform...   \n",
       "2      New Zealand defeated India by 8 wickets in the...   \n",
       "3      With Aegon Life iTerm Insurance plan, customer...   \n",
       "4      Speaking about the sexual harassment allegatio...   \n",
       "...                                                  ...   \n",
       "98396  A CRPF jawan was on Tuesday axed to death with...   \n",
       "98397  'Uff Yeh', the first song from the Sonakshi Si...   \n",
       "98398  According to reports, a new version of the 199...   \n",
       "98399  A new music video shows rapper Snoop Dogg aimi...   \n",
       "98400  Madhesi Morcha, an alliance of seven political...   \n",
       "\n",
       "                                                 summary  \n",
       "0      upGrad learner switches to career in ML & Al w...  \n",
       "1      Delhi techie wins free food from Swiggy for on...  \n",
       "2      New Zealand end Rohit Sharma-led India's 12-ma...  \n",
       "3      Aegon life iTerm insurance plan helps customer...  \n",
       "4      Have known Hirani for yrs, what if MeToo claim...  \n",
       "...                                                  ...  \n",
       "98396  CRPF jawan axed to death by Maoists in Chhatti...  \n",
       "98397  First song from Sonakshi Sinha's 'Noor' titled...  \n",
       "98398         'The Matrix' film to get a reboot: Reports  \n",
       "98399  Snoop Dogg aims gun at clown dressed as Trump ...  \n",
       "98400  Madhesi Morcha withdraws support to Nepalese g...  \n",
       "\n",
       "[98401 rows x 2 columns]"
      ]
     },
     "execution_count": 19,
     "metadata": {},
     "output_type": "execute_result"
    }
   ],
   "source": [
    "df_headline = pd.read_csv('dataset/news_headline.csv', header=0)\n",
    "df_headline"
   ]
  },
  {
   "cell_type": "code",
   "execution_count": 20,
   "metadata": {
    "colab": {
     "base_uri": "https://localhost:8080/"
    },
    "executionInfo": {
     "elapsed": 378,
     "status": "ok",
     "timestamp": 1652119505975,
     "user": {
      "displayName": "Kuber Shahi",
      "userId": "04157404054756166055"
     },
     "user_tz": -330
    },
    "id": "WUgqR2AkKjYQ",
    "outputId": "60bbc9dd-633f-426a-eef5-f339bffd57e4"
   },
   "outputs": [
    {
     "name": "stdout",
     "output_type": "stream",
     "text": [
      "(98401, 2)\n"
     ]
    }
   ],
   "source": [
    "print(df_headline.shape)"
   ]
  },
  {
   "cell_type": "markdown",
   "metadata": {
    "id": "mA40dGgn4L-G"
   },
   "source": [
    "### Splitting the dataset in training and testing set (80-20) split"
   ]
  },
  {
   "cell_type": "code",
   "execution_count": 21,
   "metadata": {
    "colab": {
     "base_uri": "https://localhost:8080/"
    },
    "executionInfo": {
     "elapsed": 400,
     "status": "ok",
     "timestamp": 1652119509189,
     "user": {
      "displayName": "Kuber Shahi",
      "userId": "04157404054756166055"
     },
     "user_tz": -330
    },
    "id": "E7RMDvl4kIDn",
    "outputId": "a09336c3-8d97-4efe-a0f9-108a89bb0909"
   },
   "outputs": [
    {
     "name": "stdout",
     "output_type": "stream",
     "text": [
      "(78720,) (78720,)\n",
      "(19681,) (19681,)\n",
      "78720 78720\n",
      "19681 19681\n"
     ]
    }
   ],
   "source": [
    "x_train, x_test, y_train, y_test = train_test_split(df_headline['text'], df_headline['summary'], test_size=0.2,random_state=25, shuffle=True)\n",
    "print(x_train.shape, y_train.shape)\n",
    "print(x_test.shape, y_test.shape)\n",
    "\n",
    "x_train_list, y_train_list = x_train.tolist(), y_train.tolist()\n",
    "x_test_list, y_test_list = x_test.tolist(), y_test.tolist()\n",
    "\n",
    "print(len(x_train_list), len(y_train_list))\n",
    "print(len(x_test_list), len(y_test_list))"
   ]
  },
  {
   "cell_type": "markdown",
   "metadata": {
    "id": "Dp1rzit3FRPQ"
   },
   "source": [
    "### Importing the Pegasus model, tokenizer, trainer, and training arguments for finetuning"
   ]
  },
  {
   "cell_type": "code",
   "execution_count": 22,
   "metadata": {
    "colab": {
     "base_uri": "https://localhost:8080/"
    },
    "executionInfo": {
     "elapsed": 12505,
     "status": "ok",
     "timestamp": 1652119523781,
     "user": {
      "displayName": "Kuber Shahi",
      "userId": "04157404054756166055"
     },
     "user_tz": -330
    },
    "id": "CpM9A-RakITP",
    "outputId": "6c2648dc-7d58-40a0-a8f8-eb109bf692f5"
   },
   "outputs": [
    {
     "name": "stdout",
     "output_type": "stream",
     "text": [
      "1.11.0\n",
      "cpu\n"
     ]
    }
   ],
   "source": [
    "from transformers import PegasusForConditionalGeneration, PegasusTokenizerFast, Trainer, TrainingArguments\n",
    "import torch\n",
    "print(torch.__version__)\n",
    "torch_device = 'cuda' if torch.cuda.is_available() else 'cpu'\n",
    "print(torch_device)"
   ]
  },
  {
   "cell_type": "code",
   "execution_count": 8,
   "metadata": {
    "colab": {
     "base_uri": "https://localhost:8080/"
    },
    "executionInfo": {
     "elapsed": 23608,
     "status": "ok",
     "timestamp": 1652119547385,
     "user": {
      "displayName": "Kuber Shahi",
      "userId": "04157404054756166055"
     },
     "user_tz": -330
    },
    "id": "EsV5o6VbkIgc",
    "outputId": "0df9fdb2-eabd-4d7b-c3c9-d435bd85fa4d"
   },
   "outputs": [],
   "source": [
    "# %%time\n",
    "# tokenizer_cnn = PegasusTokenizerFast.from_pretrained(\"google/pegasus-cnn_dailymail\")\n",
    "# model_cnn = PegasusForConditionalGeneration.from_pretrained(\"google/pegasus-cnn_dailymail\").to(torch_device)"
   ]
  },
  {
   "cell_type": "code",
   "execution_count": 23,
   "metadata": {
    "id": "EYg5mbmF5N3t"
   },
   "outputs": [
    {
     "name": "stdout",
     "output_type": "stream",
     "text": [
      "CPU times: total: 14.5 s\n",
      "Wall time: 24.1 s\n"
     ]
    }
   ],
   "source": [
    "%%time\n",
    "tokenizer_large = PegasusTokenizerFast.from_pretrained(\"google/pegasus-large\")\n",
    "model_large = PegasusForConditionalGeneration.from_pretrained(\"trained-model\").to(torch_device)"
   ]
  },
  {
   "cell_type": "code",
   "execution_count": 24,
   "metadata": {},
   "outputs": [
    {
     "data": {
      "text/plain": [
       "PreTrainedTokenizerFast(name_or_path='google/pegasus-large', vocab_size=96103, model_max_len=1024, is_fast=True, padding_side='right', truncation_side='right', special_tokens={'eos_token': '</s>', 'unk_token': '<unk>', 'pad_token': '<pad>', 'mask_token': '<mask_2>', 'additional_special_tokens': ['<mask_1>', '<unk_2>', '<unk_3>', '<unk_4>', '<unk_5>', '<unk_6>', '<unk_7>', '<unk_8>', '<unk_9>', '<unk_10>', '<unk_11>', '<unk_12>', '<unk_13>', '<unk_14>', '<unk_15>', '<unk_16>', '<unk_17>', '<unk_18>', '<unk_19>', '<unk_20>', '<unk_21>', '<unk_22>', '<unk_23>', '<unk_24>', '<unk_25>', '<unk_26>', '<unk_27>', '<unk_28>', '<unk_29>', '<unk_30>', '<unk_31>', '<unk_32>', '<unk_33>', '<unk_34>', '<unk_35>', '<unk_36>', '<unk_37>', '<unk_38>', '<unk_39>', '<unk_40>', '<unk_41>', '<unk_42>', '<unk_43>', '<unk_44>', '<unk_45>', '<unk_46>', '<unk_47>', '<unk_48>', '<unk_49>', '<unk_50>', '<unk_51>', '<unk_52>', '<unk_53>', '<unk_54>', '<unk_55>', '<unk_56>', '<unk_57>', '<unk_58>', '<unk_59>', '<unk_60>', '<unk_61>', '<unk_62>', '<unk_63>', '<unk_64>', '<unk_65>', '<unk_66>', '<unk_67>', '<unk_68>', '<unk_69>', '<unk_70>', '<unk_71>', '<unk_72>', '<unk_73>', '<unk_74>', '<unk_75>', '<unk_76>', '<unk_77>', '<unk_78>', '<unk_79>', '<unk_80>', '<unk_81>', '<unk_82>', '<unk_83>', '<unk_84>', '<unk_85>', '<unk_86>', '<unk_87>', '<unk_88>', '<unk_89>', '<unk_90>', '<unk_91>', '<unk_92>', '<unk_93>', '<unk_94>', '<unk_95>', '<unk_96>', '<unk_97>', '<unk_98>', '<unk_99>', '<unk_100>', '<unk_101>', '<unk_102>']})"
      ]
     },
     "execution_count": 24,
     "metadata": {},
     "output_type": "execute_result"
    }
   ],
   "source": [
    "# configuaration of tokenizer\n",
    "tokenizer_large"
   ]
  },
  {
   "cell_type": "code",
   "execution_count": 25,
   "metadata": {},
   "outputs": [],
   "source": [
    "# parameters of the model\n",
    "# model_large"
   ]
  },
  {
   "cell_type": "code",
   "execution_count": 26,
   "metadata": {},
   "outputs": [
    {
     "name": "stdout",
     "output_type": "stream",
     "text": [
      "568699904\n"
     ]
    }
   ],
   "source": [
    "# number of trainable parameters\n",
    "model_large_params = sum(p.numel() for p in model_large.parameters() if p.requires_grad)\n",
    "print(model_large_params)"
   ]
  },
  {
   "cell_type": "code",
   "execution_count": null,
   "metadata": {},
   "outputs": [],
   "source": []
  },
  {
   "cell_type": "code",
   "execution_count": null,
   "metadata": {},
   "outputs": [],
   "source": []
  },
  {
   "cell_type": "markdown",
   "metadata": {
    "id": "wlWzhUKM3EB0"
   },
   "source": [
    "### Testing the trained Pegasus model on our test data"
   ]
  },
  {
   "cell_type": "code",
   "execution_count": 27,
   "metadata": {},
   "outputs": [],
   "source": [
    "# function to get summary of a text of list of texts\n",
    "def get_summary(tokenizer, model, x):\n",
    "    x_tokenized = tokenizer(x, truncation=True, padding = True, return_tensors=\"pt\").to(torch_device)\n",
    "    print(\"Input X tokenized. Generating Summary ...\")\n",
    "    y_pred_tokenized= model.generate(**x_tokenized).to(torch_device)\n",
    "    print(\"Summary Generated. Decoding Summary ...\")\n",
    "    y_pred = tokenizer.batch_decode(y_pred_tokenized, skip_special_tokens=True)\n",
    "    print(\"Summary Decoded.\")\n",
    "    return y_pred\n",
    "\n",
    "# function to caluculate rogue score\n",
    "def calculate_rouge(m, y_pred, y):\n",
    "    candidate = [i.split() for i in y_pred]\n",
    "    reference = [i.split() for i in y]\n",
    "    # print(candidate, reference)\n",
    "    \n",
    "    m.update((candidate, reference))\n",
    "    \n",
    "    return m.compute()"
   ]
  },
  {
   "cell_type": "code",
   "execution_count": 28,
   "metadata": {},
   "outputs": [
    {
     "data": {
      "text/plain": [
       "\"Technology giant Google has extended the warranty of its Pixel 2 and Pixel 2 XL smartphones to two years, its VP of Product Management Mario Queiroz announced. This comes after users reported Pixel 2 XL's screens turning grey, suggesting burn-in. Google will also add a mode for saturated colours via a software update on both devices to tackle the issue.\""
      ]
     },
     "execution_count": 28,
     "metadata": {},
     "output_type": "execute_result"
    }
   ],
   "source": [
    "x_test_list[10]"
   ]
  },
  {
   "cell_type": "code",
   "execution_count": 30,
   "metadata": {},
   "outputs": [
    {
     "name": "stdout",
     "output_type": "stream",
     "text": [
      "Input X tokenized. Generating Summary ...\n",
      "Summary Generated. Decoding Summary ...\n",
      "Summary Decoded.\n",
      "['Google extends warranty of Pixel 2 and Pixel 2 XL to 2 years']\n",
      "CPU times: total: 10.5 s\n",
      "Wall time: 5.54 s\n"
     ]
    }
   ],
   "source": [
    "%%time\n",
    "y_test_pred_pre = get_summary(tokenizer_large, model_large, x_test_list[10])\n",
    "print(y_test_pred_pre)"
   ]
  },
  {
   "cell_type": "code",
   "execution_count": 13,
   "metadata": {},
   "outputs": [
    {
     "data": {
      "text/plain": [
       "'Google ups Pixel 2, XL warranty amid screen burn-in reports'"
      ]
     },
     "execution_count": 13,
     "metadata": {},
     "output_type": "execute_result"
    }
   ],
   "source": [
    "y_test_list[10]"
   ]
  },
  {
   "cell_type": "code",
   "execution_count": null,
   "metadata": {
    "colab": {
     "base_uri": "https://localhost:8080/"
    },
    "executionInfo": {
     "elapsed": 647,
     "status": "ok",
     "timestamp": 1652117631173,
     "user": {
      "displayName": "Kuber Shahi",
      "userId": "04157404054756166055"
     },
     "user_tz": -330
    },
    "id": "lFJ_0ZNq4loa",
    "outputId": "1397bcef-d9db-44ba-d795-2edee571a818"
   },
   "outputs": [],
   "source": []
  },
  {
   "cell_type": "code",
   "execution_count": null,
   "metadata": {
    "colab": {
     "base_uri": "https://localhost:8080/",
     "height": 36
    },
    "executionInfo": {
     "elapsed": 513,
     "status": "ok",
     "timestamp": 1652106910890,
     "user": {
      "displayName": "Kuber Shahi",
      "userId": "04157404054756166055"
     },
     "user_tz": -330
    },
    "id": "Dr0fDeGJPqh6",
    "outputId": "a5760772-ef63-4d0f-a23a-4ddb1e5e34ee"
   },
   "outputs": [],
   "source": []
  },
  {
   "cell_type": "code",
   "execution_count": null,
   "metadata": {},
   "outputs": [],
   "source": []
  },
  {
   "cell_type": "code",
   "execution_count": null,
   "metadata": {},
   "outputs": [],
   "source": []
  },
  {
   "cell_type": "code",
   "execution_count": null,
   "metadata": {},
   "outputs": [],
   "source": []
  },
  {
   "cell_type": "code",
   "execution_count": null,
   "metadata": {},
   "outputs": [],
   "source": []
  },
  {
   "cell_type": "code",
   "execution_count": null,
   "metadata": {},
   "outputs": [],
   "source": []
  }
 ],
 "metadata": {
  "accelerator": "TPU",
  "colab": {
   "authorship_tag": "ABX9TyOx+LFhBD37vffFG7idB6n/",
   "collapsed_sections": [],
   "name": "project.ipynb",
   "provenance": []
  },
  "kernelspec": {
   "display_name": "env",
   "language": "python",
   "name": "env"
  },
  "language_info": {
   "codemirror_mode": {
    "name": "ipython",
    "version": 3
   },
   "file_extension": ".py",
   "mimetype": "text/x-python",
   "name": "python",
   "nbconvert_exporter": "python",
   "pygments_lexer": "ipython3",
   "version": "3.9.10"
  }
 },
 "nbformat": 4,
 "nbformat_minor": 1
}
